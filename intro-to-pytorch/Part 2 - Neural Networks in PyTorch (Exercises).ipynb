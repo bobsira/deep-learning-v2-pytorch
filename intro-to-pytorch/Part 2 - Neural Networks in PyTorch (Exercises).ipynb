{
 "cells": [
  {
   "cell_type": "markdown",
   "metadata": {},
   "source": [
    "# Neural networks with PyTorch\n",
    "\n",
    "Deep learning networks tend to be massive with dozens or hundreds of layers, that's where the term \"deep\" comes from. You can build one of these deep networks using only weight matrices as we did in the previous notebook, but in general it's very cumbersome and difficult to implement. PyTorch has a nice module `nn` that provides a nice way to efficiently build large neural networks."
   ]
  },
  {
   "cell_type": "code",
   "execution_count": 1,
   "metadata": {},
   "outputs": [],
   "source": [
    "# Import necessary packages\n",
    "\n",
    "%matplotlib inline\n",
    "%config InlineBackend.figure_format = 'retina'\n",
    "\n",
    "import numpy as np\n",
    "import torch\n",
    "\n",
    "import helper\n",
    "\n",
    "import matplotlib.pyplot as plt"
   ]
  },
  {
   "cell_type": "markdown",
   "metadata": {},
   "source": [
    "\n",
    "Now we're going to build a larger network that can solve a (formerly) difficult problem, identifying text in an image. Here we'll use the MNIST dataset which consists of greyscale handwritten digits. Each image is 28x28 pixels, you can see a sample below\n",
    "\n",
    "<img src='assets/mnist.png'>\n",
    "\n",
    "Our goal is to build a neural network that can take one of these images and predict the digit in the image.\n",
    "\n",
    "First up, we need to get our dataset. This is provided through the `torchvision` package. The code below will download the MNIST dataset, then create training and test datasets for us. Don't worry too much about the details here, you'll learn more about this later."
   ]
  },
  {
   "cell_type": "code",
   "execution_count": 3,
   "metadata": {},
   "outputs": [],
   "source": [
    "### Run this cell\n",
    "\n",
    "from torchvision import datasets, transforms\n",
    "\n",
    "# Define a transform to normalize the data\n",
    "transform = transforms.Compose([transforms.ToTensor(),\n",
    "                              transforms.Normalize((0.5,), (0.5,)),\n",
    "                              ])\n",
    "\n",
    "# Download and load the training data\n",
    "trainset = datasets.MNIST('~/.pytorch/MNIST_data/', download=True, train=True, transform=transform)\n",
    "trainloader = torch.utils.data.DataLoader(trainset, batch_size=64, shuffle=True)"
   ]
  },
  {
   "cell_type": "markdown",
   "metadata": {},
   "source": [
    "We have the training data loaded into `trainloader` and we make that an iterator with `iter(trainloader)`. Later, we'll use this to loop through the dataset for training, like\n",
    "\n",
    "```python\n",
    "for image, label in trainloader:\n",
    "    ## do things with images and labels\n",
    "```\n",
    "\n",
    "You'll notice I created the `trainloader` with a batch size of 64, and `shuffle=True`. The batch size is the number of images we get in one iteration from the data loader and pass through our network, often called a *batch*. And `shuffle=True` tells it to shuffle the dataset every time we start going through the data loader again. But here I'm just grabbing the first batch so we can check out the data. We can see below that `images` is just a tensor with size `(64, 1, 28, 28)`. So, 64 images per batch, 1 color channel, and 28x28 images."
   ]
  },
  {
   "cell_type": "code",
   "execution_count": 4,
   "metadata": {},
   "outputs": [
    {
     "name": "stdout",
     "output_type": "stream",
     "text": [
      "<class 'torch.Tensor'>\n",
      "torch.Size([64, 1, 28, 28])\n",
      "torch.Size([64])\n"
     ]
    }
   ],
   "source": [
    "dataiter = iter(trainloader)\n",
    "images, labels = dataiter.next()\n",
    "print(type(images))\n",
    "print(images.shape)\n",
    "print(labels.shape)"
   ]
  },
  {
   "cell_type": "markdown",
   "metadata": {},
   "source": [
    "This is what one of the images looks like. "
   ]
  },
  {
   "cell_type": "code",
   "execution_count": 5,
   "metadata": {},
   "outputs": [
    {
     "data": {
      "image/png": "[encoded data removed]",
      "text/plain": [
       "<Figure size 432x288 with 1 Axes>"
      ]
     },
     "metadata": {
      "image/png": {
       "height": 248,
       "width": 251
      },
      "needs_background": "light"
     },
     "output_type": "display_data"
    }
   ],
   "source": [
    "plt.imshow(images[1].numpy().squeeze(), cmap='Greys_r');"
   ]
  },
  {
   "cell_type": "markdown",
   "metadata": {},
   "source": [
    "First, let's try to build a simple network for this dataset using weight matrices and matrix multiplications. Then, we'll see how to do it using PyTorch's `nn` module which provides a much more convenient and powerful method for defining network architectures.\n",
    "\n",
    "The networks you've seen so far are called *fully-connected* or *dense* networks. Each unit in one layer is connected to each unit in the next layer. In fully-connected networks, the input to each layer must be a one-dimensional vector (which can be stacked into a 2D tensor as a batch of multiple examples). However, our images are 28x28 2D tensors, so we need to convert them into 1D vectors. Thinking about sizes, we need to convert the batch of images with shape `(64, 1, 28, 28)` to a have a shape of `(64, 784)`, 784 is 28 times 28. This is typically called *flattening*, we flattened the 2D images into 1D vectors.\n",
    "\n",
    "Previously you built a network with one output unit. Here we need 10 output units, one for each digit. We want our network to predict the digit shown in an image, so what we'll do is calculate probabilities that the image is of any one digit or class. This ends up being a discrete probability distribution over the classes (digits) that tells us the most likely class for the image. That means we need 10 output units for the 10 classes (digits). We'll see how to convert the network output into a probability distribution next.\n",
    "\n",
    "> **Exercise:** Flatten the batch of images `images`. Then build a multi-layer network with 784 input units, 256 hidden units, and 10 output units using random tensors for the weights and biases. For now, use a sigmoid activation for the hidden layer. Leave the output layer without an activation, we'll add one that gives us a probability distribution next."
   ]
  },
  {
   "cell_type": "code",
   "execution_count": 6,
   "metadata": {},
   "outputs": [
    {
     "data": {
      "text/plain": [
       "tensor([[-1.1658e+01, -9.0965e+00, -9.6445e+00,  1.4103e+01, -8.8353e+00,\n",
       "         -1.2465e+01,  1.2983e+01,  1.2023e+01,  1.6538e+01,  9.8808e+00],\n",
       "        [-7.9323e+00, -1.2765e+00, -1.8074e+01,  8.1059e+00, -7.4849e+00,\n",
       "         -1.4532e+01,  6.0784e-01,  1.2348e+01,  1.8632e+01,  6.4236e+00],\n",
       "        [-3.7046e+00, -2.7449e+00, -5.1452e+00,  1.3899e+00, -3.6436e+00,\n",
       "         -7.8825e+00,  1.6976e+01,  1.5624e+00,  1.0989e+01,  1.5037e+01],\n",
       "        [-1.8201e+01, -3.9734e+00, -1.1490e+01, -7.5071e+00, -9.1883e+00,\n",
       "         -5.7289e+00,  1.3147e+01,  6.7793e+00,  1.7141e+01,  1.0882e+01],\n",
       "        [-2.7611e+00, -1.5491e+00, -8.7120e+00,  3.5374e+00, -2.6808e+00,\n",
       "         -5.1169e+00,  3.4769e-01,  2.9359e+00,  1.2188e+01,  4.8841e+00],\n",
       "        [-1.0469e+01, -5.7193e+00, -1.3435e+01,  9.4705e+00,  1.2209e+00,\n",
       "         -4.0684e+00,  5.4074e+00,  8.7957e+00,  1.8274e+01,  6.0462e+00],\n",
       "        [-1.4296e+01,  1.4457e+00,  6.0741e-01,  1.0634e+01,  1.6838e+00,\n",
       "         -6.2890e+00,  4.4035e+00,  1.9879e+00,  7.8541e+00,  6.3452e+00],\n",
       "        [-8.4856e+00,  3.6642e+00, -6.7219e+00,  1.1880e+01, -1.6983e+01,\n",
       "         -1.0961e+01,  4.0214e+00,  8.7710e+00,  1.1610e+01,  1.7464e+01],\n",
       "        [-8.7201e+00,  4.3900e+00, -1.6155e+01,  8.2441e+00,  1.4085e-01,\n",
       "         -1.0821e+01,  1.0937e+01,  7.1181e+00,  1.0280e+01,  9.3676e-01],\n",
       "        [-9.1326e+00, -7.6298e+00,  1.1542e+00,  3.6824e-02, -7.8982e+00,\n",
       "         -1.0292e+01, -3.1457e+00,  3.1724e+00,  1.6155e+01,  9.1813e+00],\n",
       "        [-1.1367e+01, -1.2103e+00, -7.3605e+00,  5.0955e+00, -2.8164e-01,\n",
       "         -1.7563e+00,  1.1181e+01,  7.4821e+00,  1.4551e+01,  1.5162e+01],\n",
       "        [-2.1513e+01, -3.2014e+00, -1.8645e+01,  9.9033e+00,  8.3454e+00,\n",
       "         -3.4095e+00,  6.8324e+00, -3.4837e+00,  8.3438e+00, -4.8815e-02],\n",
       "        [-1.9569e+00, -1.5791e-02, -2.3957e-01,  1.1606e+01, -8.6253e-01,\n",
       "         -1.3337e+01,  1.9439e+00, -4.8335e-01,  1.2934e+01,  3.7235e+00],\n",
       "        [-8.8461e+00, -8.4466e+00, -1.3086e+01,  8.4391e+00, -9.6192e+00,\n",
       "         -2.1890e+00,  6.6202e+00,  8.8245e+00,  1.2936e+01,  4.5271e+00],\n",
       "        [-2.6631e+01, -7.6773e+00,  4.8383e+00,  1.7123e+00,  3.5416e-01,\n",
       "          7.9469e-01,  8.8652e+00,  2.3464e+00,  1.4449e+01, -1.1165e+01],\n",
       "        [-5.6782e+00, -4.7817e+00, -2.4235e+00,  5.0312e+00,  1.1023e+00,\n",
       "          6.5520e+00,  8.7892e+00, -1.6478e+00,  1.0353e+01,  1.6277e+00],\n",
       "        [-6.2289e+00, -4.8543e+00, -9.2189e+00, -4.0531e+00, -1.0313e+01,\n",
       "         -6.6358e+00,  8.2093e+00,  1.4703e+01,  1.2678e+01,  8.2690e+00],\n",
       "        [-1.9090e+01,  3.8586e-02, -1.5767e+01,  3.9198e+00, -9.3113e+00,\n",
       "         -1.6342e+01,  2.5003e+00,  6.4208e+00,  1.1904e+01,  1.3195e+01],\n",
       "        [-1.9263e+01, -1.5611e+00,  5.9470e-01,  1.5110e+01, -9.4857e+00,\n",
       "          8.5641e-01,  9.4699e+00,  9.1573e+00,  7.7514e+00,  3.7356e+00],\n",
       "        [-1.7927e+01, -7.0353e+00,  8.0966e+00,  1.2166e+00, -1.0828e-01,\n",
       "         -1.0367e+01,  5.6918e+00,  4.5588e+00,  8.2389e+00,  1.0854e+00],\n",
       "        [-1.5872e+01,  2.2422e+00, -1.0547e+01,  5.5680e+00, -1.9593e+00,\n",
       "         -9.4348e+00, -1.1693e+00, -4.0672e+00,  2.2339e+01,  1.7198e-01],\n",
       "        [-1.3789e+01, -5.4094e+00, -3.7082e+00,  1.6683e+01, -4.9400e+00,\n",
       "         -1.2786e+00,  1.1181e+01,  4.0565e+00,  1.1654e+01,  4.4200e+00],\n",
       "        [ 5.7207e-01, -2.3948e+00, -1.3510e+01,  1.3120e+01, -5.4110e+00,\n",
       "         -1.3834e+01,  5.5101e+00,  1.0342e+01,  1.2549e+01,  8.0496e+00],\n",
       "        [-1.4155e+01, -3.7861e+00, -6.6402e-01,  1.3186e+00, -8.6964e+00,\n",
       "         -3.2750e+00, -4.3500e+00, -8.6574e-01,  1.2012e+01,  1.2151e+01],\n",
       "        [-1.2885e+01,  3.5542e+00, -5.2492e+00,  6.3589e+00, -4.8080e+00,\n",
       "         -9.3914e+00,  1.3230e+01, -7.4460e-01,  1.0339e+01,  1.3737e+01],\n",
       "        [-3.1171e+00, -1.1867e+01, -7.1132e+00,  8.6819e+00,  3.2254e+00,\n",
       "         -2.4764e+01, -2.4890e+00,  4.7560e+00,  1.8486e+01,  8.1073e+00],\n",
       "        [-7.0078e-01, -8.7869e+00,  3.3590e+00, -6.5028e+00, -1.5422e+00,\n",
       "         -5.4156e+00, -1.9042e+00,  8.2665e+00,  1.4103e+01,  6.3123e-01],\n",
       "        [-1.1615e+01,  3.1039e+00,  4.6780e+00,  1.5633e+01,  3.9114e+00,\n",
       "         -5.7664e+00,  5.3935e+00, -5.6274e+00,  8.6989e+00, -1.8944e-01],\n",
       "        [-1.4733e+01, -3.0996e+00, -1.0269e+01,  7.5115e+00, -1.6724e+01,\n",
       "         -5.0724e+00,  8.8264e+00,  4.8093e+00,  2.0969e+01,  1.3607e+01],\n",
       "        [-4.2319e+00, -8.1534e+00, -1.3552e-01,  6.7679e+00, -2.0126e-01,\n",
       "         -1.3990e+01, -4.8675e+00,  7.0541e+00,  2.0910e+01, -6.1091e-02],\n",
       "        [-1.1726e+01, -2.6727e+00,  4.1003e+00,  8.8109e+00, -9.6758e+00,\n",
       "         -6.8410e+00,  3.5828e+00,  1.8168e+01,  1.2014e+01,  1.1489e+01],\n",
       "        [-1.5640e+01,  1.0086e+01,  7.8064e+00,  5.6981e+00, -5.0276e+00,\n",
       "         -1.3404e+01,  7.4922e+00,  2.5078e+00,  1.2522e+01,  1.4629e+01],\n",
       "        [-1.4655e+01, -9.8283e+00, -7.1699e+00,  2.1989e+01, -4.4481e+00,\n",
       "          1.6235e+00,  6.9135e+00,  2.2873e+00,  2.5948e+01,  1.1171e+01],\n",
       "        [-1.0464e+01,  2.9558e+00, -1.4977e+01,  4.6974e+00, -5.3698e+00,\n",
       "         -6.4900e+00,  1.3829e+01,  7.4791e+00,  1.7379e+01,  1.4809e+01],\n",
       "        [-5.1889e+00, -5.2613e+00, -1.2106e+01,  1.5563e+01,  7.5210e-01,\n",
       "         -4.1244e+00,  9.3732e+00,  8.4971e-01,  4.4027e+00,  4.1501e+00],\n",
       "        [-1.2740e+01, -7.5236e+00, -9.4756e+00,  4.6645e-01, -4.2111e+00,\n",
       "          1.5557e+00,  7.6220e+00,  9.4529e-01,  1.5851e+01, -5.0752e+00],\n",
       "        [-1.1363e+01, -1.3788e+00, -1.9220e+01,  7.2310e+00, -4.5365e+00,\n",
       "         -8.7067e+00,  8.0702e+00,  8.4586e+00,  1.7968e+01,  1.1194e+01],\n",
       "        [-5.4763e+00,  3.2452e+00, -2.3015e+01,  9.8334e+00, -5.2949e-01,\n",
       "         -7.2872e+00,  3.2656e+00,  1.0696e+01,  1.1706e+01,  7.0176e+00],\n",
       "        [-1.4185e-01, -7.4048e+00, -8.8028e+00,  1.9074e+00, -2.4736e-02,\n",
       "         -6.1484e+00, -1.4596e+00,  1.4886e+00,  1.8017e+01,  3.5753e+00],\n",
       "        [-8.2329e+00,  2.6856e+00, -2.0052e+01,  8.7965e+00,  4.2623e+00,\n",
       "         -7.6209e+00,  1.1172e+01,  4.4080e+00,  9.7789e+00,  7.6957e+00],\n",
       "        [-6.8842e+00,  8.3381e+00, -1.5381e+01,  6.7795e+00, -3.4719e+00,\n",
       "         -7.7343e+00,  3.7954e+00, -3.4124e-01,  2.6082e+01,  1.3679e+01],\n",
       "        [-1.1202e+01, -6.9019e-01, -1.2574e+01,  6.6927e+00, -1.7540e+00,\n",
       "         -9.7605e+00,  7.2410e+00,  9.5906e+00,  2.3291e+01,  1.4545e+01],\n",
       "        [-2.1406e+01, -4.8799e+00,  2.2012e+00,  2.7763e+00, -1.0517e+01,\n",
       "         -4.9380e+00,  5.6880e+00,  4.5017e+00,  9.7400e+00,  6.6301e+00],\n",
       "        [-7.0466e+00,  4.0432e+00, -2.4652e+00, -1.4835e+00, -4.1209e+00,\n",
       "         -2.9419e+00,  6.0048e+00, -2.9005e-01,  1.4156e+01,  3.2593e+00],\n",
       "        [-1.4135e+01, -3.3282e+00, -1.7261e+01,  7.5999e+00, -1.3796e+01,\n",
       "         -9.7026e+00,  3.3410e+00,  6.2663e+00,  2.0265e+01,  1.1063e+01],\n",
       "        [-1.2146e+00,  4.8879e-01, -1.3664e+01, -5.2346e-02, -3.6269e+00,\n",
       "          2.2092e+00,  7.4154e+00,  8.3930e+00,  1.3947e+01,  1.2916e+01],\n",
       "        [-1.6953e+01, -5.1523e+00, -1.4130e+01,  7.3697e+00, -6.2313e+00,\n",
       "         -1.3360e+01,  1.1259e+01,  1.0066e+01,  1.5679e+01,  8.4975e+00],\n",
       "        [-5.1043e+00,  1.1253e+00, -9.9790e+00,  1.1289e+01,  3.8645e+00,\n",
       "         -1.0950e+01, -2.7157e+00,  1.9728e+00,  5.3930e+00,  3.4608e+00],\n",
       "        [-1.5722e+01, -3.3317e+00,  2.2820e+00,  3.0004e+00,  6.4260e+00,\n",
       "         -6.8857e+00,  1.5762e+01,  4.9107e+00, -9.7479e-03, -1.1189e+00],\n",
       "        [-2.1739e+01, -3.2548e+00, -2.0881e-01,  4.4963e+00, -4.7075e+00,\n",
       "         -1.2036e+00,  7.8861e+00, -1.5148e+00,  1.6842e+01,  5.2531e+00],\n",
       "        [-3.8477e+00, -5.0470e+00, -5.7138e+00,  3.0782e+00, -2.3642e+00,\n",
       "         -7.3562e+00,  9.9754e+00,  8.7640e+00,  9.1181e+00,  7.9340e+00],\n",
       "        [-1.3714e+01,  3.3843e+00, -1.6034e+01,  6.0267e+00,  1.6309e+00,\n",
       "         -1.2730e+01,  1.6683e+01,  1.5964e+00,  6.4637e+00,  1.7270e+00],\n",
       "        [-1.5131e+01, -3.5488e+00, -9.9077e+00, -4.1590e+00, -2.0364e+01,\n",
       "          5.5073e+00,  4.5748e+00,  4.0237e+00,  1.8019e+01,  1.0036e+01],\n",
       "        [-1.2633e+01, -7.6647e+00, -6.5218e+00,  5.0335e+00, -5.6213e+00,\n",
       "         -1.1874e+01,  6.2033e+00,  3.8132e+00,  1.2156e+01,  2.5000e+00],\n",
       "        [-7.6507e+00, -6.3575e+00, -9.6713e+00,  1.2015e+01, -4.3187e+00,\n",
       "          9.4663e-01,  1.5882e+01,  9.8550e+00,  1.5594e+01,  5.7681e+00],\n",
       "        [-1.3481e+01, -2.8687e-01, -1.4449e+01,  9.6213e-01, -1.0984e+01,\n",
       "         -7.0505e+00,  9.2942e+00,  9.1999e+00,  1.1042e+01,  1.1161e+01],\n",
       "        [-1.2471e+01, -2.0099e-01, -6.6048e+00, -5.7125e+00, -8.0188e+00,\n",
       "         -4.5585e+00,  1.2715e+01,  1.1199e+01,  1.1531e+01,  8.1422e+00],\n",
       "        [-1.8242e+01, -1.1368e+01, -1.3091e+01,  5.1602e+00, -8.6985e+00,\n",
       "         -1.1136e+01,  9.7070e+00,  7.8149e+00,  2.1427e+01,  1.0562e+01],\n",
       "        [-1.3521e+01, -2.0688e+00, -8.3693e+00, -1.8978e-01, -1.4445e+01,\n",
       "         -8.6778e+00,  2.2529e+00,  1.3156e+01,  1.6336e+01,  6.6944e+00],\n",
       "        [-7.8112e+00, -6.9769e+00, -4.6418e+00,  3.0772e+00, -1.4703e+01,\n",
       "         -1.3368e+00,  1.0680e+01, -2.8831e+00,  1.1371e+01,  4.0130e-01],\n",
       "        [ 5.3773e-01, -3.2662e+00, -5.3007e+00,  2.9201e+00, -6.5193e-01,\n",
       "         -4.6133e+00,  8.4148e+00,  1.1249e+01,  2.7426e+00,  5.5264e+00],\n",
       "        [-1.8284e+01, -6.5674e+00, -6.0785e+00,  6.8846e+00, -7.2356e+00,\n",
       "         -8.5842e+00,  6.6256e+00, -1.5291e+00,  1.2263e+01, -3.2240e+00],\n",
       "        [-2.0329e+01, -1.1253e+00, -5.9151e+00,  1.1838e+00, -5.6975e+00,\n",
       "         -1.2279e+01,  9.1305e+00, -2.8535e+00,  1.9266e+01,  1.5372e+01],\n",
       "        [-2.4708e+01, -9.0208e-01, -6.0813e+00,  1.1948e+01, -4.6575e+00,\n",
       "         -5.6334e+00,  1.5022e+01,  5.7065e+00,  7.1759e+00, -1.2053e+00]])"
      ]
     },
     "execution_count": 6,
     "metadata": {},
     "output_type": "execute_result"
    }
   ],
   "source": [
    "## Your solution\n",
    "def activation(x):\n",
    "    return 1/(1+torch.exp(-x))\n",
    "# flatten the input images\n",
    "input = images.view(images.shape[0], -1)\n",
    "\n",
    "# Create parameters\n",
    "w1 = torch.randn(784,256)\n",
    "b1 = torch.randn(256)\n",
    "\n",
    "w2 = torch.randn(256,10)\n",
    "b2 = torch.randn(10)\n",
    "\n",
    "h = activation(torch.mm(input,w1)+ b1)\n",
    "out = torch.mm(h,w2) + b2\n",
    "\n",
    "out # output of your network, should have shape (64,10)"
   ]
  },
  {
   "cell_type": "markdown",
   "metadata": {},
   "source": [
    "Now we have 10 outputs for our network. We want to pass in an image to our network and get out a probability distribution over the classes that tells us the likely class(es) the image belongs to. Something that looks like this:\n",
    "<img src='assets/image_distribution.png' width=500px>\n",
    "\n",
    "Here we see that the probability for each class is roughly the same. This is representing an untrained network, it hasn't seen any data yet so it just returns a uniform distribution with equal probabilities for each class.\n",
    "\n",
    "To calculate this probability distribution, we often use the [**softmax** function](https://en.wikipedia.org/wiki/Softmax_function). Mathematically this looks like\n",
    "\n",
    "$$\n",
    "\\Large \\sigma(x_i) = \\cfrac{e^{x_i}}{\\sum_k^K{e^{x_k}}}\n",
    "$$\n",
    "\n",
    "What this does is squish each input $x_i$ between 0 and 1 and normalizes the values to give you a proper probability distribution where the probabilites sum up to one.\n",
    "\n",
    "> **Exercise:** Implement a function `softmax` that performs the softmax calculation and returns probability distributions for each example in the batch. Note that you'll need to pay attention to the shapes when doing this. If you have a tensor `a` with shape `(64, 10)` and a tensor `b` with shape `(64,)`, doing `a/b` will give you an error because PyTorch will try to do the division across the columns (called broadcasting) but you'll get a size mismatch. The way to think about this is for each of the 64 examples, you only want to divide by one value, the sum in the denominator. So you need `b` to have a shape of `(64, 1)`. This way PyTorch will divide the 10 values in each row of `a` by the one value in each row of `b`. Pay attention to how you take the sum as well. You'll need to define the `dim` keyword in `torch.sum`. Setting `dim=0` takes the sum across the rows while `dim=1` takes the sum across the columns."
   ]
  },
  {
   "cell_type": "code",
   "execution_count": 7,
   "metadata": {},
   "outputs": [
    {
     "name": "stdout",
     "output_type": "stream",
     "text": [
      "torch.Size([64, 10])\n",
      "tensor([1.0000, 1.0000, 1.0000, 1.0000, 1.0000, 1.0000, 1.0000, 1.0000, 1.0000,\n",
      "        1.0000, 1.0000, 1.0000, 1.0000, 1.0000, 1.0000, 1.0000, 1.0000, 1.0000,\n",
      "        1.0000, 1.0000, 1.0000, 1.0000, 1.0000, 1.0000, 1.0000, 1.0000, 1.0000,\n",
      "        1.0000, 1.0000, 1.0000, 1.0000, 1.0000, 1.0000, 1.0000, 1.0000, 1.0000,\n",
      "        1.0000, 1.0000, 1.0000, 1.0000, 1.0000, 1.0000, 1.0000, 1.0000, 1.0000,\n",
      "        1.0000, 1.0000, 1.0000, 1.0000, 1.0000, 1.0000, 1.0000, 1.0000, 1.0000,\n",
      "        1.0000, 1.0000, 1.0000, 1.0000, 1.0000, 1.0000, 1.0000, 1.0000, 1.0000,\n",
      "        1.0000])\n"
     ]
    }
   ],
   "source": [
    "def softmax(x):\n",
    "    ## TODO: Implement the softmax function here\n",
    "    return torch.exp(x)/torch.sum(torch.exp(x), dim = 1).view(-1,1)\n",
    "\n",
    "# Here, out should be the output of the network in the previous excercise with shape (64,10)\n",
    "probabilities = softmax(out)\n",
    "\n",
    "# Does it have the right shape? Should be (64, 10)\n",
    "print(probabilities.shape)\n",
    "# Does it sum to 1?\n",
    "print(probabilities.sum(dim=1))"
   ]
  },
  {
   "cell_type": "markdown",
   "metadata": {},
   "source": [
    "## Building networks with PyTorch\n",
    "\n",
    "PyTorch provides a module `nn` that makes building networks much simpler. Here I'll show you how to build the same one as above with 784 inputs, 256 hidden units, 10 output units and a softmax output."
   ]
  },
  {
   "cell_type": "code",
   "execution_count": 8,
   "metadata": {},
   "outputs": [],
   "source": [
    "from torch import nn"
   ]
  },
  {
   "cell_type": "code",
   "execution_count": 10,
   "metadata": {},
   "outputs": [],
   "source": [
    "class Network(nn.Module):\n",
    "    def __init__(self):\n",
    "        super().__init__()\n",
    "        \n",
    "        # Inputs to hidden layer linear transformation\n",
    "        self.hidden = nn.Linear(784, 256)\n",
    "        # Output layer, 10 units - one for each digit\n",
    "        self.output = nn.Linear(256, 10)\n",
    "        \n",
    "        # Define sigmoid activation and softmax output \n",
    "        self.sigmoid = nn.Sigmoid()\n",
    "        self.softmax = nn.Softmax(dim=1)\n",
    "        \n",
    "    def forward(self, x):\n",
    "        # Pass the input tensor through each of our operations\n",
    "        x = self.hidden(x)\n",
    "        x = self.sigmoid(x)\n",
    "        x = self.output(x)\n",
    "        x = self.softmax(x)\n",
    "        \n",
    "        return x"
   ]
  },
  {
   "cell_type": "markdown",
   "metadata": {},
   "source": [
    "Let's go through this bit by bit.\n",
    "\n",
    "```python\n",
    "class Network(nn.Module):\n",
    "```\n",
    "\n",
    "Here we're inheriting from `nn.Module`. Combined with `super().__init__()` this creates a class that tracks the architecture and provides a lot of useful methods and attributes. It is mandatory to inherit from `nn.Module` when you're creating a class for your network. The name of the class itself can be anything.\n",
    "\n",
    "```python\n",
    "self.hidden = nn.Linear(784, 256)\n",
    "```\n",
    "\n",
    "This line creates a module for a linear transformation, $x\\mathbf{W} + b$, with 784 inputs and 256 outputs and assigns it to `self.hidden`. The module automatically creates the weight and bias tensors which we'll use in the `forward` method. You can access the weight and bias tensors once the network (`net`) is created with `net.hidden.weight` and `net.hidden.bias`.\n",
    "\n",
    "```python\n",
    "self.output = nn.Linear(256, 10)\n",
    "```\n",
    "\n",
    "Similarly, this creates another linear transformation with 256 inputs and 10 outputs.\n",
    "\n",
    "```python\n",
    "self.sigmoid = nn.Sigmoid()\n",
    "self.softmax = nn.Softmax(dim=1)\n",
    "```\n",
    "\n",
    "Here I defined operations for the sigmoid activation and softmax output. Setting `dim=1` in `nn.Softmax(dim=1)` calculates softmax across the columns.\n",
    "\n",
    "```python\n",
    "def forward(self, x):\n",
    "```\n",
    "\n",
    "PyTorch networks created with `nn.Module` must have a `forward` method defined. It takes in a tensor `x` and passes it through the operations you defined in the `__init__` method.\n",
    "\n",
    "```python\n",
    "x = self.hidden(x)\n",
    "x = self.sigmoid(x)\n",
    "x = self.output(x)\n",
    "x = self.softmax(x)\n",
    "```\n",
    "\n",
    "Here the input tensor `x` is passed through each operation and reassigned to `x`. We can see that the input tensor goes through the hidden layer, then a sigmoid function, then the output layer, and finally the softmax function. It doesn't matter what you name the variables here, as long as the inputs and outputs of the operations match the network architecture you want to build. The order in which you define things in the `__init__` method doesn't matter, but you'll need to sequence the operations correctly in the `forward` method.\n",
    "\n",
    "Now we can create a `Network` object."
   ]
  },
  {
   "cell_type": "code",
   "execution_count": 11,
   "metadata": {},
   "outputs": [
    {
     "data": {
      "text/plain": [
       "Network(\n",
       "  (hidden): Linear(in_features=784, out_features=256, bias=True)\n",
       "  (output): Linear(in_features=256, out_features=10, bias=True)\n",
       "  (sigmoid): Sigmoid()\n",
       "  (softmax): Softmax(dim=1)\n",
       ")"
      ]
     },
     "execution_count": 11,
     "metadata": {},
     "output_type": "execute_result"
    }
   ],
   "source": [
    "# Create the network and look at it's text representation\n",
    "model = Network()\n",
    "model"
   ]
  },
  {
   "cell_type": "markdown",
   "metadata": {},
   "source": [
    "You can define the network somewhat more concisely and clearly using the `torch.nn.functional` module. This is the most common way you'll see networks defined as many operations are simple element-wise functions. We normally import this module as `F`, `import torch.nn.functional as F`."
   ]
  },
  {
   "cell_type": "code",
   "execution_count": 12,
   "metadata": {},
   "outputs": [],
   "source": [
    "import torch.nn.functional as F\n",
    "\n",
    "class Network(nn.Module):\n",
    "    def __init__(self):\n",
    "        super().__init__()\n",
    "        # Inputs to hidden layer linear transformation\n",
    "        self.hidden = nn.Linear(784, 256)\n",
    "        # Output layer, 10 units - one for each digit\n",
    "        self.output = nn.Linear(256, 10)\n",
    "        \n",
    "    def forward(self, x):\n",
    "        # Hidden layer with sigmoid activation\n",
    "        x = F.sigmoid(self.hidden(x))\n",
    "        # Output layer with softmax activation\n",
    "        x = F.softmax(self.output(x), dim=1)\n",
    "        \n",
    "        return x"
   ]
  },
  {
   "cell_type": "markdown",
   "metadata": {},
   "source": [
    "### Activation functions\n",
    "\n",
    "So far we've only been looking at the sigmoid activation function, but in general any function can be used as an activation function. The only requirement is that for a network to approximate a non-linear function, the activation functions must be non-linear. Here are a few more examples of common activation functions: Tanh (hyperbolic tangent), and ReLU (rectified linear unit).\n",
    "\n",
    "<img src=\"assets/activation.png\" width=700px>\n",
    "\n",
    "In practice, the ReLU function is used almost exclusively as the activation function for hidden layers."
   ]
  },
  {
   "cell_type": "markdown",
   "metadata": {},
   "source": [
    "### Your Turn to Build a Network\n",
    "\n",
    "<img src=\"assets/mlp_mnist.png\" width=600px>\n",
    "\n",
    "> **Exercise:** Create a network with 784 input units, a hidden layer with 128 units and a ReLU activation, then a hidden layer with 64 units and a ReLU activation, and finally an output layer with a softmax activation as shown above. You can use a ReLU activation with the `nn.ReLU` module or `F.relu` function.\n",
    "\n",
    "It's good practice to name your layers by their type of network, for instance 'fc' to represent a fully-connected layer. As you code your solution, use `fc1`, `fc2`, and `fc3` as your layer names."
   ]
  },
  {
   "cell_type": "code",
   "execution_count": 14,
   "metadata": {
    "scrolled": true
   },
   "outputs": [
    {
     "data": {
      "text/plain": [
       "Network(\n",
       "  (fc1): Linear(in_features=784, out_features=128, bias=True)\n",
       "  (fc2): Linear(in_features=128, out_features=64, bias=True)\n",
       "  (fc3): Linear(in_features=64, out_features=10, bias=True)\n",
       ")"
      ]
     },
     "execution_count": 14,
     "metadata": {},
     "output_type": "execute_result"
    }
   ],
   "source": [
    "class Network(nn.Module):\n",
    "    def __init__(self):\n",
    "        super().__init__()\n",
    "        # Defining the Layers, 128, 64, 10 units each\n",
    "        self.fc1 = nn.Linear(784, 128)\n",
    "        self.fc2 = nn.Linear(128,64)\n",
    "        # Output Layer, 10 units - one for each digit\n",
    "        self.fc3 = nn.Linear(64,10)\n",
    "    def forward(self, x):\n",
    "        x = self.fc1(x)\n",
    "        x = F.relu(x)\n",
    "        x = self.fc2(x)\n",
    "        x = F.relu(x)\n",
    "        x = self.fc3(x)\n",
    "        x = F.softmax(x, dim=1)\n",
    "        \n",
    "        return x\n",
    "model = Network()\n",
    "model"
   ]
  },
  {
   "cell_type": "markdown",
   "metadata": {},
   "source": [
    "### Initializing weights and biases\n",
    "\n",
    "The weights and such are automatically initialized for you, but it's possible to customize how they are initialized. The weights and biases are tensors attached to the layer you defined, you can get them with `model.fc1.weight` for instance."
   ]
  },
  {
   "cell_type": "code",
   "execution_count": null,
   "metadata": {
    "collapsed": true
   },
   "outputs": [],
   "source": [
    "print(model.fc1.weight)\n",
    "print(model.fc1.bias)"
   ]
  },
  {
   "cell_type": "markdown",
   "metadata": {},
   "source": [
    "For custom initialization, we want to modify these tensors in place. These are actually autograd *Variables*, so we need to get back the actual tensors with `model.fc1.weight.data`. Once we have the tensors, we can fill them with zeros (for biases) or random normal values."
   ]
  },
  {
   "cell_type": "code",
   "execution_count": null,
   "metadata": {
    "collapsed": true
   },
   "outputs": [],
   "source": [
    "# Set biases to all zeros\n",
    "model.fc1.bias.data.fill_(0)"
   ]
  },
  {
   "cell_type": "code",
   "execution_count": null,
   "metadata": {
    "collapsed": true
   },
   "outputs": [],
   "source": [
    "# sample from random normal with standard dev = 0.01\n",
    "model.fc1.weight.data.normal_(std=0.01)"
   ]
  },
  {
   "cell_type": "markdown",
   "metadata": {},
   "source": [
    "### Forward pass\n",
    "\n",
    "Now that we have a network, let's see what happens when we pass in an image."
   ]
  },
  {
   "cell_type": "code",
   "execution_count": null,
   "metadata": {
    "collapsed": true
   },
   "outputs": [],
   "source": [
    "# Grab some data \n",
    "dataiter = iter(trainloader)\n",
    "images, labels = dataiter.next()\n",
    "\n",
    "# Resize images into a 1D vector, new shape is (batch size, color channels, image pixels) \n",
    "images.resize_(64, 1, 784)\n",
    "# or images.resize_(images.shape[0], 1, 784) to automatically get batch size\n",
    "\n",
    "# Forward pass through the network\n",
    "img_idx = 0\n",
    "ps = model.forward(images[img_idx,:])\n",
    "\n",
    "img = images[img_idx]\n",
    "helper.view_classify(img.view(1, 28, 28), ps)"
   ]
  },
  {
   "cell_type": "markdown",
   "metadata": {},
   "source": [
    "As you can see above, our network has basically no idea what this digit is. It's because we haven't trained it yet, all the weights are random!\n",
    "\n",
    "### Using `nn.Sequential`\n",
    "\n",
    "PyTorch provides a convenient way to build networks like this where a tensor is passed sequentially through operations, `nn.Sequential` ([documentation](https://pytorch.org/docs/master/nn.html#torch.nn.Sequential)). Using this to build the equivalent network:"
   ]
  },
  {
   "cell_type": "code",
   "execution_count": null,
   "metadata": {
    "collapsed": true
   },
   "outputs": [],
   "source": [
    "# Hyperparameters for our network\n",
    "input_size = 784\n",
    "hidden_sizes = [128, 64]\n",
    "output_size = 10\n",
    "\n",
    "# Build a feed-forward network\n",
    "model = nn.Sequential(nn.Linear(input_size, hidden_sizes[0]),\n",
    "                      nn.ReLU(),\n",
    "                      nn.Linear(hidden_sizes[0], hidden_sizes[1]),\n",
    "                      nn.ReLU(),\n",
    "                      nn.Linear(hidden_sizes[1], output_size),\n",
    "                      nn.Softmax(dim=1))\n",
    "print(model)\n",
    "\n",
    "# Forward pass through the network and display output\n",
    "images, labels = next(iter(trainloader))\n",
    "images.resize_(images.shape[0], 1, 784)\n",
    "ps = model.forward(images[0,:])\n",
    "helper.view_classify(images[0].view(1, 28, 28), ps)"
   ]
  },
  {
   "cell_type": "markdown",
   "metadata": {},
   "source": [
    "Here our model is the same as before: 784 input units, a hidden layer with 128 units, ReLU activation, 64 unit hidden layer, another ReLU, then the output layer with 10 units, and the softmax output.\n",
    "\n",
    "The operations are available by passing in the appropriate index. For example, if you want to get first Linear operation and look at the weights, you'd use `model[0]`."
   ]
  },
  {
   "cell_type": "code",
   "execution_count": null,
   "metadata": {
    "collapsed": true
   },
   "outputs": [],
   "source": [
    "print(model[0])\n",
    "model[0].weight"
   ]
  },
  {
   "cell_type": "markdown",
   "metadata": {},
   "source": [
    "You can also pass in an `OrderedDict` to name the individual layers and operations, instead of using incremental integers. Note that dictionary keys must be unique, so _each operation must have a different name_."
   ]
  },
  {
   "cell_type": "code",
   "execution_count": null,
   "metadata": {
    "collapsed": true
   },
   "outputs": [],
   "source": [
    "from collections import OrderedDict\n",
    "model = nn.Sequential(OrderedDict([\n",
    "                      ('fc1', nn.Linear(input_size, hidden_sizes[0])),\n",
    "                      ('relu1', nn.ReLU()),\n",
    "                      ('fc2', nn.Linear(hidden_sizes[0], hidden_sizes[1])),\n",
    "                      ('relu2', nn.ReLU()),\n",
    "                      ('output', nn.Linear(hidden_sizes[1], output_size)),\n",
    "                      ('softmax', nn.Softmax(dim=1))]))\n",
    "model"
   ]
  },
  {
   "cell_type": "markdown",
   "metadata": {},
   "source": [
    "Now you can access layers either by integer or the name"
   ]
  },
  {
   "cell_type": "code",
   "execution_count": null,
   "metadata": {
    "collapsed": true
   },
   "outputs": [],
   "source": [
    "print(model[0])\n",
    "print(model.fc1)"
   ]
  },
  {
   "cell_type": "markdown",
   "metadata": {},
   "source": [
    "In the next notebook, we'll see how we can train a neural network to accuractly predict the numbers appearing in the MNIST images."
   ]
  }
 ],
 "metadata": {
  "kernelspec": {
   "display_name": "Python 3",
   "language": "python",
   "name": "python3"
  },
  "language_info": {
   "codemirror_mode": {
    "name": "ipython",
    "version": 3
   },
   "file_extension": ".py",
   "mimetype": "text/x-python",
   "name": "python",
   "nbconvert_exporter": "python",
   "pygments_lexer": "ipython3",
   "version": "3.7.4"
  }
 },
 "nbformat": 4,
 "nbformat_minor": 2
}
