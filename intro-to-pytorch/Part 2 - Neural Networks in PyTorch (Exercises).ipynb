{
 "cells": [
  {
   "cell_type": "markdown",
   "metadata": {},
   "source": [
    "# Neural networks with PyTorch\n",
    "\n",
    "Deep learning networks tend to be massive with dozens or hundreds of layers, that's where the term \"deep\" comes from. You can build one of these deep networks using only weight matrices as we did in the previous notebook, but in general it's very cumbersome and difficult to implement. PyTorch has a nice module `nn` that provides a nice way to efficiently build large neural networks."
   ]
  },
  {
   "cell_type": "code",
   "execution_count": 1,
   "metadata": {},
   "outputs": [],
   "source": [
    "# Import necessary packages\n",
    "\n",
    "%matplotlib inline\n",
    "%config InlineBackend.figure_format = 'retina'\n",
    "\n",
    "import numpy as np\n",
    "import torch\n",
    "\n",
    "import helper\n",
    "\n",
    "import matplotlib.pyplot as plt"
   ]
  },
  {
   "cell_type": "markdown",
   "metadata": {},
   "source": [
    "\n",
    "Now we're going to build a larger network that can solve a (formerly) difficult problem, identifying text in an image. Here we'll use the MNIST dataset which consists of greyscale handwritten digits. Each image is 28x28 pixels, you can see a sample below\n",
    "\n",
    "<img src='assets/mnist.png'>\n",
    "\n",
    "Our goal is to build a neural network that can take one of these images and predict the digit in the image.\n",
    "\n",
    "First up, we need to get our dataset. This is provided through the `torchvision` package. The code below will download the MNIST dataset, then create training and test datasets for us. Don't worry too much about the details here, you'll learn more about this later."
   ]
  },
  {
   "cell_type": "code",
   "execution_count": 2,
   "metadata": {},
   "outputs": [
    {
     "name": "stdout",
     "output_type": "stream",
     "text": [
      "Downloading http://yann.lecun.com/exdb/mnist/train-images-idx3-ubyte.gz to C:\\Users\\bosira/.pytorch/MNIST_data/MNIST\\raw\\train-images-idx3-ubyte.gz\n"
     ]
    },
    {
     "name": "stderr",
     "output_type": "stream",
     "text": [
      "9920512it [00:06, 1481637.27it/s]                                                   \n"
     ]
    },
    {
     "name": "stdout",
     "output_type": "stream",
     "text": [
      "Extracting C:\\Users\\bosira/.pytorch/MNIST_data/MNIST\\raw\\train-images-idx3-ubyte.gz to C:\\Users\\bosira/.pytorch/MNIST_data/MNIST\\raw\n",
      "Downloading http://yann.lecun.com/exdb/mnist/train-labels-idx1-ubyte.gz to C:\\Users\\bosira/.pytorch/MNIST_data/MNIST\\raw\\train-labels-idx1-ubyte.gz\n"
     ]
    },
    {
     "name": "stderr",
     "output_type": "stream",
     "text": [
      "32768it [00:00, 34603.48it/s]                                                       \n"
     ]
    },
    {
     "name": "stdout",
     "output_type": "stream",
     "text": [
      "Extracting C:\\Users\\bosira/.pytorch/MNIST_data/MNIST\\raw\\train-labels-idx1-ubyte.gz to C:\\Users\\bosira/.pytorch/MNIST_data/MNIST\\raw\n",
      "Downloading http://yann.lecun.com/exdb/mnist/t10k-images-idx3-ubyte.gz to C:\\Users\\bosira/.pytorch/MNIST_data/MNIST\\raw\\t10k-images-idx3-ubyte.gz\n"
     ]
    },
    {
     "name": "stderr",
     "output_type": "stream",
     "text": [
      "1654784it [00:02, 561279.13it/s]                                                    \n"
     ]
    },
    {
     "name": "stdout",
     "output_type": "stream",
     "text": [
      "Extracting C:\\Users\\bosira/.pytorch/MNIST_data/MNIST\\raw\\t10k-images-idx3-ubyte.gz to C:\\Users\\bosira/.pytorch/MNIST_data/MNIST\\raw\n",
      "Downloading http://yann.lecun.com/exdb/mnist/t10k-labels-idx1-ubyte.gz to C:\\Users\\bosira/.pytorch/MNIST_data/MNIST\\raw\\t10k-labels-idx1-ubyte.gz\n"
     ]
    },
    {
     "name": "stderr",
     "output_type": "stream",
     "text": [
      "8192it [00:00, 12824.28it/s]                                                        \n"
     ]
    },
    {
     "name": "stdout",
     "output_type": "stream",
     "text": [
      "Extracting C:\\Users\\bosira/.pytorch/MNIST_data/MNIST\\raw\\t10k-labels-idx1-ubyte.gz to C:\\Users\\bosira/.pytorch/MNIST_data/MNIST\\raw\n",
      "Processing...\n",
      "Done!\n"
     ]
    }
   ],
   "source": [
    "### Run this cell\n",
    "\n",
    "from torchvision import datasets, transforms\n",
    "\n",
    "# Define a transform to normalize the data\n",
    "transform = transforms.Compose([transforms.ToTensor(),\n",
    "                              transforms.Normalize((0.5,), (0.5,)),\n",
    "                              ])\n",
    "\n",
    "# Download and load the training data\n",
    "trainset = datasets.MNIST('~/.pytorch/MNIST_data/', download=True, train=True, transform=transform)\n",
    "trainloader = torch.utils.data.DataLoader(trainset, batch_size=64, shuffle=True)"
   ]
  },
  {
   "cell_type": "markdown",
   "metadata": {},
   "source": [
    "We have the training data loaded into `trainloader` and we make that an iterator with `iter(trainloader)`. Later, we'll use this to loop through the dataset for training, like\n",
    "\n",
    "```python\n",
    "for image, label in trainloader:\n",
    "    ## do things with images and labels\n",
    "```\n",
    "\n",
    "You'll notice I created the `trainloader` with a batch size of 64, and `shuffle=True`. The batch size is the number of images we get in one iteration from the data loader and pass through our network, often called a *batch*. And `shuffle=True` tells it to shuffle the dataset every time we start going through the data loader again. But here I'm just grabbing the first batch so we can check out the data. We can see below that `images` is just a tensor with size `(64, 1, 28, 28)`. So, 64 images per batch, 1 color channel, and 28x28 images."
   ]
  },
  {
   "cell_type": "code",
   "execution_count": 3,
   "metadata": {},
   "outputs": [
    {
     "name": "stdout",
     "output_type": "stream",
     "text": [
      "<class 'torch.Tensor'>\n",
      "torch.Size([64, 1, 28, 28])\n",
      "torch.Size([64])\n"
     ]
    }
   ],
   "source": [
    "dataiter = iter(trainloader)\n",
    "images, labels = dataiter.next()\n",
    "print(type(images))\n",
    "print(images.shape)\n",
    "print(labels.shape)"
   ]
  },
  {
   "cell_type": "markdown",
   "metadata": {},
   "source": [
    "This is what one of the images looks like. "
   ]
  },
  {
   "cell_type": "code",
   "execution_count": 4,
   "metadata": {},
   "outputs": [
    {
     "data": {
      "image/png": "[encoded data removed]",
      "text/plain": [
       "<Figure size 432x288 with 1 Axes>"
      ]
     },
     "metadata": {
      "image/png": {
       "height": 248,
       "width": 251
      },
      "needs_background": "light"
     },
     "output_type": "display_data"
    }
   ],
   "source": [
    "plt.imshow(images[1].numpy().squeeze(), cmap='Greys_r');"
   ]
  },
  {
   "cell_type": "markdown",
   "metadata": {},
   "source": [
    "First, let's try to build a simple network for this dataset using weight matrices and matrix multiplications. Then, we'll see how to do it using PyTorch's `nn` module which provides a much more convenient and powerful method for defining network architectures.\n",
    "\n",
    "The networks you've seen so far are called *fully-connected* or *dense* networks. Each unit in one layer is connected to each unit in the next layer. In fully-connected networks, the input to each layer must be a one-dimensional vector (which can be stacked into a 2D tensor as a batch of multiple examples). However, our images are 28x28 2D tensors, so we need to convert them into 1D vectors. Thinking about sizes, we need to convert the batch of images with shape `(64, 1, 28, 28)` to a have a shape of `(64, 784)`, 784 is 28 times 28. This is typically called *flattening*, we flattened the 2D images into 1D vectors.\n",
    "\n",
    "Previously you built a network with one output unit. Here we need 10 output units, one for each digit. We want our network to predict the digit shown in an image, so what we'll do is calculate probabilities that the image is of any one digit or class. This ends up being a discrete probability distribution over the classes (digits) that tells us the most likely class for the image. That means we need 10 output units for the 10 classes (digits). We'll see how to convert the network output into a probability distribution next.\n",
    "\n",
    "> **Exercise:** Flatten the batch of images `images`. Then build a multi-layer network with 784 input units, 256 hidden units, and 10 output units using random tensors for the weights and biases. For now, use a sigmoid activation for the hidden layer. Leave the output layer without an activation, we'll add one that gives us a probability distribution next."
   ]
  },
  {
   "cell_type": "code",
   "execution_count": 6,
   "metadata": {},
   "outputs": [
    {
     "data": {
      "text/plain": [
       "tensor([[-1.5111e+01,  1.2102e+01,  2.3609e+01,  2.0000e+00,  6.2457e+00,\n",
       "          9.3607e+00,  5.0805e+00,  8.3922e-01,  8.4781e+00, -2.1868e+00],\n",
       "        [-2.4864e+01,  8.0485e+00,  1.7722e+01, -6.8946e+00,  2.8570e+00,\n",
       "          8.0177e+00, -7.9184e+00, -1.5656e+01,  1.3823e+01, -1.4475e+01],\n",
       "        [-1.5449e+01,  6.6647e+00,  1.9912e+01,  6.7533e+00,  6.5167e-01,\n",
       "          1.0425e+01,  3.8374e-01, -7.7022e+00,  7.0741e+00,  9.5521e-02],\n",
       "        [-2.3267e+01, -9.0927e-01,  2.1859e+01, -2.1277e+00,  2.3345e-01,\n",
       "          3.7240e+00,  1.2887e-01, -1.6448e+01,  6.8521e+00, -3.1819e+00],\n",
       "        [-8.6568e+00,  3.1353e+00,  2.6104e+01,  2.9630e+00,  2.3065e+00,\n",
       "          1.2066e+01, -3.9375e+00, -6.5254e+00,  1.4030e+01, -5.7472e+00],\n",
       "        [-1.7879e+01, -2.1921e+00,  2.9786e+01, -4.6200e+00,  5.2473e-01,\n",
       "          9.0044e+00,  3.1190e-02, -1.8774e+01,  1.3715e+01,  7.7868e-01],\n",
       "        [-1.8182e+01,  4.5767e+00,  2.2797e+01, -3.8413e+00,  4.9893e+00,\n",
       "          1.2012e+01,  1.2481e+00, -8.2464e+00,  1.2153e+01, -5.0970e+00],\n",
       "        [-8.2773e+00, -5.1090e+00,  2.7668e+01, -9.0047e+00,  9.2253e+00,\n",
       "          2.2266e+01, -2.1217e+00,  5.8619e-01,  8.7666e+00,  1.8907e-01],\n",
       "        [-2.7299e+01,  9.4076e+00,  1.8366e+01, -1.2467e+00,  1.4242e+01,\n",
       "          2.3372e+01,  1.3144e+01, -1.0161e+01,  7.8155e+00,  7.5848e+00],\n",
       "        [-1.0103e+01, -4.1891e+00,  1.6742e+01, -1.0318e+00,  6.0567e+00,\n",
       "          7.5546e+00,  1.2361e+01, -6.1941e+00,  4.2247e+00,  2.2413e+00],\n",
       "        [-9.4165e+00,  1.9752e-01,  1.7539e+01,  6.4258e-01, -1.8783e+00,\n",
       "          9.4371e+00, -4.6867e+00, -1.8390e+01,  1.2112e+01, -2.0844e+00],\n",
       "        [-1.2937e+01,  5.6277e+00,  1.8802e+01, -1.0310e+01,  6.7544e+00,\n",
       "          3.9815e+00, -7.8145e-01, -1.2640e+01,  9.8364e+00, -1.2511e+01],\n",
       "        [-1.9182e+01, -5.0286e+00,  2.8321e+01, -1.9197e+00,  7.4950e+00,\n",
       "          1.6165e+01,  2.8405e+00, -4.6369e+00,  9.9114e+00,  5.9489e+00],\n",
       "        [-2.5334e+01,  1.0584e+00,  1.4014e+01, -6.1932e+00, -2.2144e+00,\n",
       "          1.9232e+01, -1.7420e+00, -1.0464e+00,  9.8946e+00, -3.9056e+00],\n",
       "        [-8.0359e+00,  1.9626e+00,  2.3997e+01, -6.2392e+00,  3.6187e+00,\n",
       "          7.8404e+00, -1.2275e+00, -1.2853e+01,  1.3388e+01, -6.4534e+00],\n",
       "        [-2.1645e+01, -2.9631e-01,  2.8171e+01, -1.3844e+00, -4.1682e+00,\n",
       "          1.3348e+01, -4.6150e+00, -6.7367e+00,  8.3563e+00, -6.9709e+00],\n",
       "        [-2.4183e+01,  4.5633e+00,  2.7173e+01, -1.1501e+01,  2.9254e+00,\n",
       "          1.9598e+01,  3.4261e+00, -8.3932e+00,  1.3818e+01,  4.8922e+00],\n",
       "        [-2.4359e+01,  1.3004e+01,  2.7147e+01, -1.3791e+00,  7.5865e+00,\n",
       "          1.3638e+01,  7.7253e+00, -6.9089e+00,  9.4807e+00, -8.3904e+00],\n",
       "        [-2.0224e+01,  5.2299e+00,  2.2140e+01, -2.1769e+00,  2.4773e+00,\n",
       "          1.2938e+01, -9.7196e-01, -8.2252e+00,  1.5814e+01, -1.8440e+00],\n",
       "        [-1.5482e+01,  5.1287e+00,  1.9300e+01, -6.4378e+00,  2.3209e+00,\n",
       "          7.2303e+00,  4.7500e-01, -1.2357e+01,  1.5426e+01, -2.4295e+00],\n",
       "        [-9.5482e+00,  7.0064e+00,  2.1692e+01, -1.3042e+00,  1.0249e+01,\n",
       "          6.0102e+00, -8.9166e-01, -9.4826e+00,  1.4133e+01,  1.3838e+00],\n",
       "        [-1.7398e+01,  5.7705e+00,  1.7380e+01, -9.9438e+00, -3.4071e+00,\n",
       "          1.7215e+01, -2.6314e-01, -1.2319e+01,  7.2888e+00,  5.2280e-02],\n",
       "        [-2.6318e+01,  3.1154e+00,  2.2876e+01,  5.6927e-01,  5.3511e-01,\n",
       "          2.0241e+01,  5.9386e+00, -1.2869e+01,  1.4415e+01,  4.9956e+00],\n",
       "        [-7.8694e+00,  8.6788e+00,  1.7894e+01, -9.3371e-01,  7.6926e-02,\n",
       "          3.1549e+00,  1.0819e+01, -7.8704e+00,  2.2072e+00, -4.1717e+00],\n",
       "        [-2.5089e+01,  2.3948e+00,  1.3893e+01, -5.7537e+00,  1.5280e+00,\n",
       "          1.0848e+00,  7.4920e+00, -8.1036e+00,  1.3835e+01, -1.0391e+01],\n",
       "        [-1.9263e+01,  2.4793e+00,  2.3489e+01,  2.7244e-01,  4.0605e-01,\n",
       "          1.1219e+01, -1.7894e+00, -1.2829e+01,  5.6720e+00, -8.8171e+00],\n",
       "        [-1.7698e+01,  3.1660e+00,  2.5318e+01,  2.5589e+00,  9.2029e+00,\n",
       "          1.8177e+01,  3.0552e+00, -1.2031e+01,  4.2124e+00, -1.3214e+01],\n",
       "        [-1.4027e+01,  1.0704e+00,  2.3049e+01,  1.6611e+00, -1.6950e+00,\n",
       "          1.5808e+01, -1.5693e+00, -6.2921e+00,  1.2735e+01, -2.9260e+00],\n",
       "        [-1.6570e+01, -1.8349e+00,  2.8645e+01, -1.4018e+00,  5.7956e+00,\n",
       "          2.1412e+01, -3.9452e+00, -1.9540e+00,  8.3950e+00,  8.8981e-01],\n",
       "        [-1.4737e+01,  6.3324e+00,  2.0020e+01,  3.5767e+00, -4.7326e+00,\n",
       "          1.7328e+01,  7.5020e+00, -1.2243e+01,  8.0821e+00, -1.4705e+00],\n",
       "        [-1.2646e+01,  3.7668e+00,  2.4229e+01, -1.3565e+00,  1.4079e-01,\n",
       "          7.5415e+00, -3.6550e+00, -5.2069e+00,  1.7731e+01,  5.4159e-01],\n",
       "        [-1.9862e+01,  5.8824e+00,  1.8023e+01, -5.2393e+00,  9.2033e+00,\n",
       "          1.4779e+01, -1.5392e+00, -2.4974e-01,  1.4965e+01,  4.9863e+00],\n",
       "        [-2.1283e+01,  5.1408e+00,  1.9352e+01, -3.6509e+00,  9.1186e-01,\n",
       "          1.8070e+01,  1.6962e+00, -1.4434e+01,  1.3295e+01, -2.6077e+00],\n",
       "        [-1.7154e+01, -2.3661e+00,  2.8636e+01, -7.1602e+00,  8.8217e+00,\n",
       "          1.1178e+01,  7.1403e+00, -9.9608e+00,  1.2333e+01,  3.0005e+00],\n",
       "        [-1.1080e+01, -4.7682e-01,  1.6728e+01, -6.2098e+00,  1.2371e+00,\n",
       "          8.1310e+00, -2.0681e+00, -1.1576e+01,  1.1226e+01, -2.0848e+00],\n",
       "        [-1.3909e+01,  1.1799e+01,  2.2741e+01, -1.0111e+01,  1.3371e+01,\n",
       "          1.5410e+01, -2.4753e+00, -8.7187e+00,  1.2477e+01,  1.6346e+00],\n",
       "        [-1.9548e+01,  2.6400e+00,  2.6266e+01,  3.9273e-01,  1.0781e+00,\n",
       "          2.4926e+00,  3.2268e+00, -1.2681e+01,  9.6663e+00, -8.4784e+00],\n",
       "        [-1.8153e+01,  7.1576e+00,  2.5253e+01,  1.3945e+00,  5.3456e+00,\n",
       "          1.0407e+00,  3.7780e+00, -1.9357e+01,  1.2011e+01, -7.7460e+00],\n",
       "        [-1.2766e+01, -3.0456e+00,  2.5316e+01,  3.3785e+00, -6.3253e-01,\n",
       "          1.8104e+01, -1.3960e+00, -4.5796e+00,  9.6122e+00, -3.8826e+00],\n",
       "        [-2.6740e+01,  3.7975e-01,  2.3592e+01,  2.6382e+00, -5.1080e+00,\n",
       "          1.5208e+01,  3.4647e+00, -7.8816e+00,  1.0975e+01, -9.1573e+00],\n",
       "        [-2.3242e+01,  8.5488e+00,  2.3474e+01, -9.6652e+00,  3.4934e-01,\n",
       "          1.7254e+01,  4.0820e+00, -1.2867e+01,  1.1283e+01, -8.4022e+00],\n",
       "        [-9.2551e+00, -8.9539e+00,  3.4662e+01, -4.8490e+00, -7.8614e+00,\n",
       "          1.5689e+01, -1.1584e+01, -7.4929e+00,  4.4213e+00,  2.0413e+01],\n",
       "        [-1.3550e+01,  1.3457e+00,  2.8655e+01, -4.3615e+00,  5.3175e+00,\n",
       "          9.4092e+00,  3.2611e+00, -4.0276e+00,  9.6582e+00, -4.3390e+00],\n",
       "        [-1.0935e+01, -9.3001e-01,  1.7540e+01, -6.2216e+00,  3.4998e+00,\n",
       "          4.2147e+00,  3.4953e+00, -9.7610e+00,  4.3848e+00, -1.3612e-01],\n",
       "        [-2.1140e+01, -7.8708e+00,  3.2016e+01,  3.9719e+00,  2.8896e+00,\n",
       "          9.3260e+00, -5.6613e+00, -8.9156e+00,  2.1635e+01, -8.9493e+00],\n",
       "        [-1.6761e+01, -2.5618e+00,  2.7236e+01,  8.7649e-01,  6.2281e+00,\n",
       "          2.0215e+01,  1.0152e+01, -1.2634e+01,  5.0442e+00, -4.0724e+00],\n",
       "        [-1.5881e+01,  5.9647e+00,  1.8684e+01, -2.3962e+00, -5.4166e-01,\n",
       "          1.2420e-01,  5.3074e+00, -7.9706e+00,  1.0864e+01, -6.6939e+00],\n",
       "        [-1.5139e+01,  6.3039e+00,  2.5645e+01, -2.7830e+00,  2.9965e+00,\n",
       "          1.3278e+01, -1.6199e+00, -7.1067e+00,  1.5996e+01, -4.4725e+00],\n",
       "        [-1.3246e+01,  3.8617e+00,  2.2754e+01, -5.5624e+00,  7.5703e+00,\n",
       "          1.2119e+01,  5.1424e+00, -6.8787e+00,  1.0971e+01, -3.3319e+00],\n",
       "        [-1.5166e+01,  6.3937e+00,  3.0072e+01, -6.0187e+00,  1.0015e+01,\n",
       "          6.6277e+00,  2.4109e+00, -8.5699e+00,  1.0865e+01, -8.0977e+00],\n",
       "        [-1.8072e+01,  8.7851e+00,  2.7889e+01, -4.3756e+00, -7.8726e-02,\n",
       "          3.9293e+00, -6.0915e+00, -5.9260e+00,  1.5651e+01, -4.3933e+00],\n",
       "        [-1.1351e+01, -5.1824e-03,  2.2670e+01,  1.0241e+01,  3.0804e+00,\n",
       "          6.1811e+00, -8.1290e-01, -9.3798e+00,  1.7707e+01, -4.0954e+00],\n",
       "        [-1.1767e+01, -5.3674e+00,  3.1122e+01, -1.8644e+00,  5.0758e+00,\n",
       "          8.2644e+00, -1.7227e+00, -1.8356e+01,  8.4517e+00, -8.7630e+00],\n",
       "        [-1.2792e+01,  1.0212e+01,  2.2592e+01,  6.4682e-01,  7.0428e+00,\n",
       "          1.2466e+01,  5.4753e+00,  2.4187e-01,  1.0725e+01, -7.3776e+00],\n",
       "        [-2.4930e+01,  8.4785e+00,  1.9256e+01, -1.1465e+00,  1.3759e+01,\n",
       "          1.7200e+01,  2.5895e+00, -7.1788e+00,  1.6098e+01,  3.3559e-01],\n",
       "        [-1.1653e+01,  2.9181e+00,  2.4210e+01, -3.6631e+00,  8.7080e-01,\n",
       "          5.4577e+00,  1.1720e+01, -1.8407e+01,  1.7712e+00, -8.3262e+00],\n",
       "        [-1.2396e+01, -2.5015e+00,  2.2510e+01, -7.7203e+00, -3.1882e+00,\n",
       "          9.8768e+00, -5.5794e+00, -1.3621e+01,  1.0916e+01, -7.2295e+00],\n",
       "        [-1.2676e+01, -5.1416e+00,  2.8750e+01, -1.1741e+00, -4.5431e+00,\n",
       "          1.5192e+01, -4.1318e+00, -7.7906e+00,  8.5202e+00,  5.8787e+00],\n",
       "        [-2.0956e+01,  3.7981e+00,  2.8543e+01, -9.1703e+00, -4.2786e+00,\n",
       "          1.8496e+01, -5.2718e-01, -6.6163e+00,  4.4744e+00,  3.1533e+00],\n",
       "        [-1.1858e+01, -4.3345e+00,  2.9787e+01, -8.6810e+00, -2.9785e+00,\n",
       "          1.8484e+01, -1.2814e+01, -2.6955e-01,  6.1361e+00,  1.5134e+01],\n",
       "        [-2.4552e+01,  6.8727e+00,  1.8722e+01, -1.9932e+00, -3.5419e+00,\n",
       "          1.0067e+01, -1.1365e+01, -1.4341e+00,  1.0035e+01,  2.7061e-01],\n",
       "        [-2.1600e+01, -7.3370e+00,  2.1730e+01,  9.7919e-01, -6.6033e+00,\n",
       "          2.0996e+01, -1.3984e+01, -8.4606e+00,  1.3974e+01, -9.0449e+00],\n",
       "        [-1.7000e+01,  4.3766e+00,  2.4500e+01, -1.8650e+00,  4.9981e+00,\n",
       "          7.9146e+00,  1.3612e+00, -6.2080e+00,  1.4523e+01, -4.3463e+00],\n",
       "        [-1.6354e+01,  3.0016e+00,  1.3786e+01, -1.0117e+00,  1.1251e+01,\n",
       "          1.3813e+01, -1.2290e-01, -6.0208e+00,  4.2075e+00, -4.8280e-01]])"
      ]
     },
     "execution_count": 6,
     "metadata": {},
     "output_type": "execute_result"
    }
   ],
   "source": [
    "## Your solution\n",
    "def activation(x):\n",
    "    return 1/(1+torch.exp(-x))\n",
    "# flatten the input images\n",
    "input = images.view(images.shape[0], -1)\n",
    "\n",
    "# Create parameters\n",
    "w1 = torch.randn(784,256)\n",
    "b1 = torch.randn(256)\n",
    "\n",
    "w2 = torch.randn(256,10)\n",
    "b2 = torch.randn(10)\n",
    "\n",
    "h = activation(torch.mm(input,w1)+ b1)\n",
    "out = torch.mm(h,w2) + b2\n",
    "\n",
    "out # output of your network, should have shape (64,10)"
   ]
  },
  {
   "cell_type": "markdown",
   "metadata": {},
   "source": [
    "Now we have 10 outputs for our network. We want to pass in an image to our network and get out a probability distribution over the classes that tells us the likely class(es) the image belongs to. Something that looks like this:\n",
    "<img src='assets/image_distribution.png' width=500px>\n",
    "\n",
    "Here we see that the probability for each class is roughly the same. This is representing an untrained network, it hasn't seen any data yet so it just returns a uniform distribution with equal probabilities for each class.\n",
    "\n",
    "To calculate this probability distribution, we often use the [**softmax** function](https://en.wikipedia.org/wiki/Softmax_function). Mathematically this looks like\n",
    "\n",
    "$$\n",
    "\\Large \\sigma(x_i) = \\cfrac{e^{x_i}}{\\sum_k^K{e^{x_k}}}\n",
    "$$\n",
    "\n",
    "What this does is squish each input $x_i$ between 0 and 1 and normalizes the values to give you a proper probability distribution where the probabilites sum up to one.\n",
    "\n",
    "> **Exercise:** Implement a function `softmax` that performs the softmax calculation and returns probability distributions for each example in the batch. Note that you'll need to pay attention to the shapes when doing this. If you have a tensor `a` with shape `(64, 10)` and a tensor `b` with shape `(64,)`, doing `a/b` will give you an error because PyTorch will try to do the division across the columns (called broadcasting) but you'll get a size mismatch. The way to think about this is for each of the 64 examples, you only want to divide by one value, the sum in the denominator. So you need `b` to have a shape of `(64, 1)`. This way PyTorch will divide the 10 values in each row of `a` by the one value in each row of `b`. Pay attention to how you take the sum as well. You'll need to define the `dim` keyword in `torch.sum`. Setting `dim=0` takes the sum across the rows while `dim=1` takes the sum across the columns."
   ]
  },
  {
   "cell_type": "code",
   "execution_count": null,
   "metadata": {
    "collapsed": true
   },
   "outputs": [],
   "source": [
    "def softmax(x):\n",
    "    ## TODO: Implement the softmax function here\n",
    "\n",
    "# Here, out should be the output of the network in the previous excercise with shape (64,10)\n",
    "probabilities = softmax(out)\n",
    "\n",
    "# Does it have the right shape? Should be (64, 10)\n",
    "print(probabilities.shape)\n",
    "# Does it sum to 1?\n",
    "print(probabilities.sum(dim=1))"
   ]
  },
  {
   "cell_type": "markdown",
   "metadata": {},
   "source": [
    "## Building networks with PyTorch\n",
    "\n",
    "PyTorch provides a module `nn` that makes building networks much simpler. Here I'll show you how to build the same one as above with 784 inputs, 256 hidden units, 10 output units and a softmax output."
   ]
  },
  {
   "cell_type": "code",
   "execution_count": null,
   "metadata": {
    "collapsed": true
   },
   "outputs": [],
   "source": [
    "from torch import nn"
   ]
  },
  {
   "cell_type": "code",
   "execution_count": null,
   "metadata": {
    "collapsed": true
   },
   "outputs": [],
   "source": [
    "class Network(nn.Module):\n",
    "    def __init__(self):\n",
    "        super().__init__()\n",
    "        \n",
    "        # Inputs to hidden layer linear transformation\n",
    "        self.hidden = nn.Linear(784, 256)\n",
    "        # Output layer, 10 units - one for each digit\n",
    "        self.output = nn.Linear(256, 10)\n",
    "        \n",
    "        # Define sigmoid activation and softmax output \n",
    "        self.sigmoid = nn.Sigmoid()\n",
    "        self.softmax = nn.Softmax(dim=1)\n",
    "        \n",
    "    def forward(self, x):\n",
    "        # Pass the input tensor through each of our operations\n",
    "        x = self.hidden(x)\n",
    "        x = self.sigmoid(x)\n",
    "        x = self.output(x)\n",
    "        x = self.softmax(x)\n",
    "        \n",
    "        return x"
   ]
  },
  {
   "cell_type": "markdown",
   "metadata": {},
   "source": [
    "Let's go through this bit by bit.\n",
    "\n",
    "```python\n",
    "class Network(nn.Module):\n",
    "```\n",
    "\n",
    "Here we're inheriting from `nn.Module`. Combined with `super().__init__()` this creates a class that tracks the architecture and provides a lot of useful methods and attributes. It is mandatory to inherit from `nn.Module` when you're creating a class for your network. The name of the class itself can be anything.\n",
    "\n",
    "```python\n",
    "self.hidden = nn.Linear(784, 256)\n",
    "```\n",
    "\n",
    "This line creates a module for a linear transformation, $x\\mathbf{W} + b$, with 784 inputs and 256 outputs and assigns it to `self.hidden`. The module automatically creates the weight and bias tensors which we'll use in the `forward` method. You can access the weight and bias tensors once the network (`net`) is created with `net.hidden.weight` and `net.hidden.bias`.\n",
    "\n",
    "```python\n",
    "self.output = nn.Linear(256, 10)\n",
    "```\n",
    "\n",
    "Similarly, this creates another linear transformation with 256 inputs and 10 outputs.\n",
    "\n",
    "```python\n",
    "self.sigmoid = nn.Sigmoid()\n",
    "self.softmax = nn.Softmax(dim=1)\n",
    "```\n",
    "\n",
    "Here I defined operations for the sigmoid activation and softmax output. Setting `dim=1` in `nn.Softmax(dim=1)` calculates softmax across the columns.\n",
    "\n",
    "```python\n",
    "def forward(self, x):\n",
    "```\n",
    "\n",
    "PyTorch networks created with `nn.Module` must have a `forward` method defined. It takes in a tensor `x` and passes it through the operations you defined in the `__init__` method.\n",
    "\n",
    "```python\n",
    "x = self.hidden(x)\n",
    "x = self.sigmoid(x)\n",
    "x = self.output(x)\n",
    "x = self.softmax(x)\n",
    "```\n",
    "\n",
    "Here the input tensor `x` is passed through each operation and reassigned to `x`. We can see that the input tensor goes through the hidden layer, then a sigmoid function, then the output layer, and finally the softmax function. It doesn't matter what you name the variables here, as long as the inputs and outputs of the operations match the network architecture you want to build. The order in which you define things in the `__init__` method doesn't matter, but you'll need to sequence the operations correctly in the `forward` method.\n",
    "\n",
    "Now we can create a `Network` object."
   ]
  },
  {
   "cell_type": "code",
   "execution_count": null,
   "metadata": {
    "collapsed": true
   },
   "outputs": [],
   "source": [
    "# Create the network and look at it's text representation\n",
    "model = Network()\n",
    "model"
   ]
  },
  {
   "cell_type": "markdown",
   "metadata": {},
   "source": [
    "You can define the network somewhat more concisely and clearly using the `torch.nn.functional` module. This is the most common way you'll see networks defined as many operations are simple element-wise functions. We normally import this module as `F`, `import torch.nn.functional as F`."
   ]
  },
  {
   "cell_type": "code",
   "execution_count": null,
   "metadata": {
    "collapsed": true
   },
   "outputs": [],
   "source": [
    "import torch.nn.functional as F\n",
    "\n",
    "class Network(nn.Module):\n",
    "    def __init__(self):\n",
    "        super().__init__()\n",
    "        # Inputs to hidden layer linear transformation\n",
    "        self.hidden = nn.Linear(784, 256)\n",
    "        # Output layer, 10 units - one for each digit\n",
    "        self.output = nn.Linear(256, 10)\n",
    "        \n",
    "    def forward(self, x):\n",
    "        # Hidden layer with sigmoid activation\n",
    "        x = F.sigmoid(self.hidden(x))\n",
    "        # Output layer with softmax activation\n",
    "        x = F.softmax(self.output(x), dim=1)\n",
    "        \n",
    "        return x"
   ]
  },
  {
   "cell_type": "markdown",
   "metadata": {},
   "source": [
    "### Activation functions\n",
    "\n",
    "So far we've only been looking at the sigmoid activation function, but in general any function can be used as an activation function. The only requirement is that for a network to approximate a non-linear function, the activation functions must be non-linear. Here are a few more examples of common activation functions: Tanh (hyperbolic tangent), and ReLU (rectified linear unit).\n",
    "\n",
    "<img src=\"assets/activation.png\" width=700px>\n",
    "\n",
    "In practice, the ReLU function is used almost exclusively as the activation function for hidden layers."
   ]
  },
  {
   "cell_type": "markdown",
   "metadata": {},
   "source": [
    "### Your Turn to Build a Network\n",
    "\n",
    "<img src=\"assets/mlp_mnist.png\" width=600px>\n",
    "\n",
    "> **Exercise:** Create a network with 784 input units, a hidden layer with 128 units and a ReLU activation, then a hidden layer with 64 units and a ReLU activation, and finally an output layer with a softmax activation as shown above. You can use a ReLU activation with the `nn.ReLU` module or `F.relu` function.\n",
    "\n",
    "It's good practice to name your layers by their type of network, for instance 'fc' to represent a fully-connected layer. As you code your solution, use `fc1`, `fc2`, and `fc3` as your layer names."
   ]
  },
  {
   "cell_type": "code",
   "execution_count": null,
   "metadata": {
    "collapsed": true,
    "scrolled": true
   },
   "outputs": [],
   "source": [
    "## Your solution here\n"
   ]
  },
  {
   "cell_type": "markdown",
   "metadata": {},
   "source": [
    "### Initializing weights and biases\n",
    "\n",
    "The weights and such are automatically initialized for you, but it's possible to customize how they are initialized. The weights and biases are tensors attached to the layer you defined, you can get them with `model.fc1.weight` for instance."
   ]
  },
  {
   "cell_type": "code",
   "execution_count": null,
   "metadata": {
    "collapsed": true
   },
   "outputs": [],
   "source": [
    "print(model.fc1.weight)\n",
    "print(model.fc1.bias)"
   ]
  },
  {
   "cell_type": "markdown",
   "metadata": {},
   "source": [
    "For custom initialization, we want to modify these tensors in place. These are actually autograd *Variables*, so we need to get back the actual tensors with `model.fc1.weight.data`. Once we have the tensors, we can fill them with zeros (for biases) or random normal values."
   ]
  },
  {
   "cell_type": "code",
   "execution_count": null,
   "metadata": {
    "collapsed": true
   },
   "outputs": [],
   "source": [
    "# Set biases to all zeros\n",
    "model.fc1.bias.data.fill_(0)"
   ]
  },
  {
   "cell_type": "code",
   "execution_count": null,
   "metadata": {
    "collapsed": true
   },
   "outputs": [],
   "source": [
    "# sample from random normal with standard dev = 0.01\n",
    "model.fc1.weight.data.normal_(std=0.01)"
   ]
  },
  {
   "cell_type": "markdown",
   "metadata": {},
   "source": [
    "### Forward pass\n",
    "\n",
    "Now that we have a network, let's see what happens when we pass in an image."
   ]
  },
  {
   "cell_type": "code",
   "execution_count": null,
   "metadata": {
    "collapsed": true
   },
   "outputs": [],
   "source": [
    "# Grab some data \n",
    "dataiter = iter(trainloader)\n",
    "images, labels = dataiter.next()\n",
    "\n",
    "# Resize images into a 1D vector, new shape is (batch size, color channels, image pixels) \n",
    "images.resize_(64, 1, 784)\n",
    "# or images.resize_(images.shape[0], 1, 784) to automatically get batch size\n",
    "\n",
    "# Forward pass through the network\n",
    "img_idx = 0\n",
    "ps = model.forward(images[img_idx,:])\n",
    "\n",
    "img = images[img_idx]\n",
    "helper.view_classify(img.view(1, 28, 28), ps)"
   ]
  },
  {
   "cell_type": "markdown",
   "metadata": {},
   "source": [
    "As you can see above, our network has basically no idea what this digit is. It's because we haven't trained it yet, all the weights are random!\n",
    "\n",
    "### Using `nn.Sequential`\n",
    "\n",
    "PyTorch provides a convenient way to build networks like this where a tensor is passed sequentially through operations, `nn.Sequential` ([documentation](https://pytorch.org/docs/master/nn.html#torch.nn.Sequential)). Using this to build the equivalent network:"
   ]
  },
  {
   "cell_type": "code",
   "execution_count": null,
   "metadata": {
    "collapsed": true
   },
   "outputs": [],
   "source": [
    "# Hyperparameters for our network\n",
    "input_size = 784\n",
    "hidden_sizes = [128, 64]\n",
    "output_size = 10\n",
    "\n",
    "# Build a feed-forward network\n",
    "model = nn.Sequential(nn.Linear(input_size, hidden_sizes[0]),\n",
    "                      nn.ReLU(),\n",
    "                      nn.Linear(hidden_sizes[0], hidden_sizes[1]),\n",
    "                      nn.ReLU(),\n",
    "                      nn.Linear(hidden_sizes[1], output_size),\n",
    "                      nn.Softmax(dim=1))\n",
    "print(model)\n",
    "\n",
    "# Forward pass through the network and display output\n",
    "images, labels = next(iter(trainloader))\n",
    "images.resize_(images.shape[0], 1, 784)\n",
    "ps = model.forward(images[0,:])\n",
    "helper.view_classify(images[0].view(1, 28, 28), ps)"
   ]
  },
  {
   "cell_type": "markdown",
   "metadata": {},
   "source": [
    "Here our model is the same as before: 784 input units, a hidden layer with 128 units, ReLU activation, 64 unit hidden layer, another ReLU, then the output layer with 10 units, and the softmax output.\n",
    "\n",
    "The operations are available by passing in the appropriate index. For example, if you want to get first Linear operation and look at the weights, you'd use `model[0]`."
   ]
  },
  {
   "cell_type": "code",
   "execution_count": null,
   "metadata": {
    "collapsed": true
   },
   "outputs": [],
   "source": [
    "print(model[0])\n",
    "model[0].weight"
   ]
  },
  {
   "cell_type": "markdown",
   "metadata": {},
   "source": [
    "You can also pass in an `OrderedDict` to name the individual layers and operations, instead of using incremental integers. Note that dictionary keys must be unique, so _each operation must have a different name_."
   ]
  },
  {
   "cell_type": "code",
   "execution_count": null,
   "metadata": {
    "collapsed": true
   },
   "outputs": [],
   "source": [
    "from collections import OrderedDict\n",
    "model = nn.Sequential(OrderedDict([\n",
    "                      ('fc1', nn.Linear(input_size, hidden_sizes[0])),\n",
    "                      ('relu1', nn.ReLU()),\n",
    "                      ('fc2', nn.Linear(hidden_sizes[0], hidden_sizes[1])),\n",
    "                      ('relu2', nn.ReLU()),\n",
    "                      ('output', nn.Linear(hidden_sizes[1], output_size)),\n",
    "                      ('softmax', nn.Softmax(dim=1))]))\n",
    "model"
   ]
  },
  {
   "cell_type": "markdown",
   "metadata": {},
   "source": [
    "Now you can access layers either by integer or the name"
   ]
  },
  {
   "cell_type": "code",
   "execution_count": null,
   "metadata": {
    "collapsed": true
   },
   "outputs": [],
   "source": [
    "print(model[0])\n",
    "print(model.fc1)"
   ]
  },
  {
   "cell_type": "markdown",
   "metadata": {},
   "source": [
    "In the next notebook, we'll see how we can train a neural network to accuractly predict the numbers appearing in the MNIST images."
   ]
  }
 ],
 "metadata": {
  "kernelspec": {
   "display_name": "Python 3",
   "language": "python",
   "name": "python3"
  },
  "language_info": {
   "codemirror_mode": {
    "name": "ipython",
    "version": 3
   },
   "file_extension": ".py",
   "mimetype": "text/x-python",
   "name": "python",
   "nbconvert_exporter": "python",
   "pygments_lexer": "ipython3",
   "version": "3.7.4"
  }
 },
 "nbformat": 4,
 "nbformat_minor": 2
}
