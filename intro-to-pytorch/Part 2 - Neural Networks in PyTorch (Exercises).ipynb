{
 "cells": [
  {
   "cell_type": "markdown",
   "metadata": {},
   "source": [
    "# Neural networks with PyTorch\n",
    "\n",
    "Deep learning networks tend to be massive with dozens or hundreds of layers, that's where the term \"deep\" comes from. You can build one of these deep networks using only weight matrices as we did in the previous notebook, but in general it's very cumbersome and difficult to implement. PyTorch has a nice module `nn` that provides a nice way to efficiently build large neural networks."
   ]
  },
  {
   "cell_type": "code",
   "execution_count": 1,
   "metadata": {},
   "outputs": [],
   "source": [
    "# Import necessary packages\n",
    "\n",
    "%matplotlib inline\n",
    "%config InlineBackend.figure_format = 'retina'\n",
    "\n",
    "import numpy as np\n",
    "import torch\n",
    "\n",
    "import helper\n",
    "\n",
    "import matplotlib.pyplot as plt"
   ]
  },
  {
   "cell_type": "markdown",
   "metadata": {},
   "source": [
    "\n",
    "Now we're going to build a larger network that can solve a (formerly) difficult problem, identifying text in an image. Here we'll use the MNIST dataset which consists of greyscale handwritten digits. Each image is 28x28 pixels, you can see a sample below\n",
    "\n",
    "<img src='assets/mnist.png'>\n",
    "\n",
    "Our goal is to build a neural network that can take one of these images and predict the digit in the image.\n",
    "\n",
    "First up, we need to get our dataset. This is provided through the `torchvision` package. The code below will download the MNIST dataset, then create training and test datasets for us. Don't worry too much about the details here, you'll learn more about this later."
   ]
  },
  {
   "cell_type": "code",
   "execution_count": 2,
   "metadata": {},
   "outputs": [],
   "source": [
    "### Run this cell\n",
    "\n",
    "from torchvision import datasets, transforms\n",
    "\n",
    "# Define a transform to normalize the data\n",
    "transform = transforms.Compose([transforms.ToTensor(),\n",
    "                              transforms.Normalize((0.5,), (0.5,)),\n",
    "                              ])\n",
    "\n",
    "# Download and load the training data\n",
    "trainset = datasets.MNIST('~/.pytorch/MNIST_data/', download=True, train=True, transform=transform)\n",
    "trainloader = torch.utils.data.DataLoader(trainset, batch_size=64, shuffle=True)"
   ]
  },
  {
   "cell_type": "markdown",
   "metadata": {},
   "source": [
    "We have the training data loaded into `trainloader` and we make that an iterator with `iter(trainloader)`. Later, we'll use this to loop through the dataset for training, like\n",
    "\n",
    "```python\n",
    "for image, label in trainloader:\n",
    "    ## do things with images and labels\n",
    "```\n",
    "\n",
    "You'll notice I created the `trainloader` with a batch size of 64, and `shuffle=True`. The batch size is the number of images we get in one iteration from the data loader and pass through our network, often called a *batch*. And `shuffle=True` tells it to shuffle the dataset every time we start going through the data loader again. But here I'm just grabbing the first batch so we can check out the data. We can see below that `images` is just a tensor with size `(64, 1, 28, 28)`. So, 64 images per batch, 1 color channel, and 28x28 images."
   ]
  },
  {
   "cell_type": "code",
   "execution_count": 3,
   "metadata": {},
   "outputs": [
    {
     "name": "stdout",
     "output_type": "stream",
     "text": [
      "<class 'torch.Tensor'>\n",
      "torch.Size([64, 1, 28, 28])\n",
      "torch.Size([64])\n"
     ]
    }
   ],
   "source": [
    "dataiter = iter(trainloader)\n",
    "images, labels = dataiter.next()\n",
    "print(type(images))\n",
    "print(images.shape)\n",
    "print(labels.shape)"
   ]
  },
  {
   "cell_type": "markdown",
   "metadata": {},
   "source": [
    "This is what one of the images looks like. "
   ]
  },
  {
   "cell_type": "code",
   "execution_count": 4,
   "metadata": {},
   "outputs": [
    {
     "data": {
      "image/png": "[encoded data removed]",
      "text/plain": [
       "<Figure size 432x288 with 1 Axes>"
      ]
     },
     "metadata": {
      "image/png": {
       "height": 248,
       "width": 251
      },
      "needs_background": "light"
     },
     "output_type": "display_data"
    }
   ],
   "source": [
    "plt.imshow(images[1].numpy().squeeze(), cmap='Greys_r');"
   ]
  },
  {
   "cell_type": "markdown",
   "metadata": {},
   "source": [
    "First, let's try to build a simple network for this dataset using weight matrices and matrix multiplications. Then, we'll see how to do it using PyTorch's `nn` module which provides a much more convenient and powerful method for defining network architectures.\n",
    "\n",
    "The networks you've seen so far are called *fully-connected* or *dense* networks. Each unit in one layer is connected to each unit in the next layer. In fully-connected networks, the input to each layer must be a one-dimensional vector (which can be stacked into a 2D tensor as a batch of multiple examples). However, our images are 28x28 2D tensors, so we need to convert them into 1D vectors. Thinking about sizes, we need to convert the batch of images with shape `(64, 1, 28, 28)` to a have a shape of `(64, 784)`, 784 is 28 times 28. This is typically called *flattening*, we flattened the 2D images into 1D vectors.\n",
    "\n",
    "Previously you built a network with one output unit. Here we need 10 output units, one for each digit. We want our network to predict the digit shown in an image, so what we'll do is calculate probabilities that the image is of any one digit or class. This ends up being a discrete probability distribution over the classes (digits) that tells us the most likely class for the image. That means we need 10 output units for the 10 classes (digits). We'll see how to convert the network output into a probability distribution next.\n",
    "\n",
    "> **Exercise:** Flatten the batch of images `images`. Then build a multi-layer network with 784 input units, 256 hidden units, and 10 output units using random tensors for the weights and biases. For now, use a sigmoid activation for the hidden layer. Leave the output layer without an activation, we'll add one that gives us a probability distribution next."
   ]
  },
  {
   "cell_type": "code",
   "execution_count": 5,
   "metadata": {},
   "outputs": [
    {
     "data": {
      "text/plain": [
       "tensor([[-14.2802,  -1.3874, -15.0733,   6.3091,  18.0951, -10.1395,  10.4808,\n",
       "          -5.3318, -15.2970,  -6.3795],\n",
       "        [ -0.6735,  -1.5861, -16.0432,  10.2426,  19.2401,  -0.5900,   5.3619,\n",
       "           1.8797, -19.4050,   5.7557],\n",
       "        [ -5.5046,   3.9274,  -9.2669,   8.1363,  27.0534, -13.8040,   6.8240,\n",
       "           2.9727, -13.9882,   4.1762],\n",
       "        [ -3.5384,   1.8405, -12.1755, -11.0974,   7.0691, -11.3746,   5.1121,\n",
       "           4.5355, -17.3868,  12.4607],\n",
       "        [  1.9237,   5.3306,  -7.5331,  14.5138,  17.3261,   9.8058,  -0.4751,\n",
       "           1.8573, -26.2736,   1.3174],\n",
       "        [ -8.4814,  -4.0485,  -5.4359,  11.6089,  16.9526,  -4.4272,   2.0303,\n",
       "           4.6548, -12.8207,   4.8674],\n",
       "        [-12.5473,   5.4450,  -1.2452,   9.8755,  18.1026,   2.2591,  -0.8022,\n",
       "           2.1152, -23.9185,  -3.2227],\n",
       "        [-20.8798,   7.5641,  -2.2699,   9.1643,  17.4383,   3.6757,   7.1421,\n",
       "          -3.0129, -23.6201,  -3.1955],\n",
       "        [ -8.6597,  -2.4029,  -9.6716,   2.5863,  16.6631, -10.2543,   4.2132,\n",
       "          -5.6003, -19.3424,   5.8728],\n",
       "        [  0.1537,   2.0195,  -0.3132,   3.7499,  20.6442, -11.1804,   8.3339,\n",
       "          -9.8900, -17.3383,  -0.3511],\n",
       "        [ 11.1030,  -8.9411,  -8.6261,   3.7907,  12.7347, -14.4831,   1.2919,\n",
       "          -0.8945, -20.9217,   6.2243],\n",
       "        [-12.4494,   7.4563, -11.1794,   1.7598,   9.2148,  -0.2726,   1.3070,\n",
       "          -0.6834, -22.4768,   6.0045],\n",
       "        [ -6.1302,   6.4671,   0.8220,   0.9574,  18.4580,  -8.1051,  -0.5460,\n",
       "          -0.2095, -15.3084,   2.7786],\n",
       "        [ -3.7983,   0.3710,  -7.7443,   3.7406,  19.5542,   0.2998,   6.4590,\n",
       "          -4.2487, -11.4275,  12.7257],\n",
       "        [ -3.0360,   3.6219,  -5.7271,   4.3908,  18.1988,   1.6724,   6.1851,\n",
       "          -2.6089, -22.3953,  -1.1016],\n",
       "        [ -4.7303,   0.1191,  -6.7478,   3.4713,   6.1372,  -5.9811,   4.0579,\n",
       "           6.0633, -14.4561,  -5.2103],\n",
       "        [-11.6119,  -3.4391,  -6.0818,   1.4896,  10.4122,  -6.0402,  10.3499,\n",
       "          -0.7416, -16.2297,   6.3815],\n",
       "        [ -7.9585,  -0.7380, -12.9949,   5.0636,  17.0077,  -3.8793,  10.3869,\n",
       "           5.5127, -14.1925,   4.3718],\n",
       "        [  0.6532,   0.4011,  -9.9333,   4.6940,   8.7053,  -7.6821,   9.2867,\n",
       "          -0.7620, -13.3883,   3.2648],\n",
       "        [ -1.5321,  -2.3652,  -0.5621,   8.7848,  17.4654,  -4.4523,  -0.7569,\n",
       "           0.9104, -11.5660,  -2.0320],\n",
       "        [  1.5684,   2.3833, -13.2668,   2.8514,  11.5564, -15.4053,   7.6619,\n",
       "          -8.0706,  -7.2397,  -3.6716],\n",
       "        [-10.7006,  -5.2550, -10.5098,   5.5531,  20.7762,  -7.8367,   5.3677,\n",
       "          -5.0555, -11.4401,  10.2836],\n",
       "        [ -1.3505,   9.1325,  -6.9098,   9.8874,  34.0136,   5.4587,   5.8278,\n",
       "           1.4913, -12.4036,   6.0388],\n",
       "        [-11.1487,  -9.6471,  -9.6041,   4.0526,  20.5100,   1.8614,   5.7429,\n",
       "           4.4165, -13.6680,   7.1859],\n",
       "        [-10.5041,   1.9938,  -0.5569,   6.8511,  20.4277,  -5.4652,  12.2900,\n",
       "          -2.1554, -13.6380,   5.3787],\n",
       "        [ -9.1209,  -3.0797,   5.4727,   3.4433,  22.1338,  -8.1022,   2.5766,\n",
       "           0.2039, -24.8342,   4.5799],\n",
       "        [ -6.3813,   3.3585, -18.6132,  -1.1816,  16.0986,  -6.0799,  -0.0792,\n",
       "          -3.6631, -13.9991,   4.3174],\n",
       "        [ -9.0485,   4.6770,  -8.4158,   5.2521,  14.7568,  -6.7197,  -0.7980,\n",
       "          -1.5167, -14.9642,  -5.5996],\n",
       "        [ -1.7571,  -6.7459,  -7.8931,   0.1165,  14.5883,  -5.3310,   3.2079,\n",
       "           0.2977, -12.7554,   6.2461],\n",
       "        [  3.6275,  -9.3036,  -7.5299,   4.5785,  17.4722,  -8.4458,   3.7755,\n",
       "          -6.8540, -13.1449,   3.7417],\n",
       "        [ -8.2439,  13.2772,  -6.1413,  -2.9606,   7.6630,  -8.1223,   5.5895,\n",
       "           5.1348, -19.6006,  -7.0778],\n",
       "        [ -9.8559,   0.5252,  -7.9723,   8.0308,  26.5299,   2.5399,  10.7851,\n",
       "           1.9267, -13.0584,   4.6193],\n",
       "        [  1.2698,   4.8543, -12.9825,  -1.4229,   6.9890, -12.6446,   3.5155,\n",
       "          -6.2300, -13.5323,   2.9752],\n",
       "        [-11.4121,   1.0119,  -7.7433,  -1.0175,  19.0598,   2.1095,   0.6681,\n",
       "           2.6943, -12.9275,   6.5718],\n",
       "        [ -1.1165,  -3.2157,   2.9391,   2.9841,  16.3733,  -1.2271,  -0.3411,\n",
       "           6.7295, -21.4907,   3.0739],\n",
       "        [ -3.4655,  -1.2011,  -8.0800,  10.5499,  13.8810, -16.5217,   0.2081,\n",
       "          -0.3782, -13.2804,   2.8328],\n",
       "        [-20.5031,  -0.6381,   0.9525,  -8.0397,  23.8503, -11.7762,   4.9692,\n",
       "          -7.0202, -25.3816,   2.1035],\n",
       "        [  0.5137,   5.0080, -18.5166,   4.9458,  20.9596,   1.8090,   0.9625,\n",
       "          -3.0387, -20.5186,   6.8037],\n",
       "        [-14.1209,  -2.2846,  -2.3262,   2.3383,  23.6158,   2.1464,   3.1053,\n",
       "           5.1893, -21.0182,  13.5704],\n",
       "        [ -6.4622,   9.4902, -18.7809,   5.3403,  23.9160,   2.9439,  -0.5288,\n",
       "           0.5557,  -7.5127,   3.9474],\n",
       "        [ -9.9190,   0.8587,  -6.4617,   8.2746,  16.7976,   4.3487,   3.3795,\n",
       "          -0.5826, -17.2085,   7.8409],\n",
       "        [-13.6495,   4.4491,  -6.8909,  10.6989,  17.4550,   0.1735,   2.5000,\n",
       "          -1.5507, -16.1637,   9.5610],\n",
       "        [-12.5799,   4.7771,  -2.2431,   9.3350,   9.7128,   2.1972,   2.4662,\n",
       "         -12.7608, -15.3763,   7.9274],\n",
       "        [ -7.4744,   4.9911,   0.2008,  -1.7626,  22.0161,  -5.6212,   3.3693,\n",
       "          -9.6116, -17.7313,  -4.0492],\n",
       "        [ -6.2741,  -3.7166,  -8.9308,   3.7932,  25.6163,   2.5796,   8.1928,\n",
       "          -2.0818,  -8.3074,  11.5761],\n",
       "        [-17.1267,  -4.3533,  -9.1091,   1.0715,  12.6363,  -3.6652,  -3.6420,\n",
       "          -8.9840, -17.1889,   0.2684],\n",
       "        [ -0.0704,  -4.8042,  -3.3634,   1.9459,  30.4548,  -5.7840,  -1.5972,\n",
       "         -10.2950, -11.0448,  -3.5037],\n",
       "        [-11.0968,   2.2665,  -7.1761,  -0.0803,  17.5858,  -6.2661,   2.0518,\n",
       "          -6.0903, -18.4096,  -2.1174],\n",
       "        [-11.8662,   6.9252,  -7.4485,   4.4373,  12.4837,  -0.4463,   9.0092,\n",
       "          -0.2211, -16.7603,   5.0474],\n",
       "        [ -8.9412,  -1.2738,   1.8400,  11.6976,  29.0134,   8.3001,  -0.9562,\n",
       "           7.8677, -21.6423,   0.6343],\n",
       "        [-11.5131,  -0.2508, -12.3490,  10.1382,  13.3053,   2.0219,   1.8245,\n",
       "           3.5957, -26.1838,   6.2032],\n",
       "        [ -4.3011,   6.2212,  -3.9565,   4.8734,  20.9139, -16.5972,  -2.6239,\n",
       "          -3.5028, -12.9073,   8.0704],\n",
       "        [ -2.7337,  -4.2700,  -3.3156,   3.8080,  21.0358,  -1.7430,  12.5981,\n",
       "           3.8077, -18.5703,   8.5377],\n",
       "        [ -7.8083,   5.3796,   1.0980,  13.8086,  15.7228,  -6.6669,   1.9713,\n",
       "           2.7316, -17.8070,   7.8519],\n",
       "        [-11.2102,   6.1166, -18.8519,  12.9418,   9.0206,   6.5765,  -8.9969,\n",
       "           5.0139, -13.6947,  -7.8568],\n",
       "        [ -1.8806,  -3.7745,  -0.4782,  10.8847,  17.9008,   3.7310,   2.0327,\n",
       "          -1.5763, -15.2120,  -3.0324],\n",
       "        [ -9.1797,  -3.1337,   3.4044,   3.9511,  12.9177, -11.5071,   2.7277,\n",
       "           6.7916, -16.3366,  -9.0552],\n",
       "        [-12.9518,   4.6534,  -6.1066,  11.0861,  13.4741, -16.4127,  11.6309,\n",
       "          -5.3716, -15.9556,   0.8604],\n",
       "        [-10.9598,  -1.0666,  -8.2385,   8.2496,  23.8374,   1.1272,  -0.9070,\n",
       "           5.6985, -21.7326,   8.3292],\n",
       "        [-12.9151,  12.6083, -21.8058,   9.5395,   7.6130,  -5.5925,  -5.0466,\n",
       "          -5.9752,  -9.5990,   0.4577],\n",
       "        [ -1.9217,   4.1327,  -8.8830,   4.6436,  24.7793,  -2.5054,  13.8743,\n",
       "          -3.4490, -10.3413,   4.3072],\n",
       "        [  7.0099,   2.6871,  -0.2342,  20.6606,  17.7434,   3.5649,   1.3244,\n",
       "           1.7357, -14.3743,  -5.0204],\n",
       "        [-12.6108,  -4.8688,  -8.4845,   1.0234,  21.2921,   6.0645,   4.3935,\n",
       "           4.3609, -16.0031,   4.4108],\n",
       "        [ -9.3384,   2.8599,  -5.5031,   3.0532,  19.1644,  -8.1204,   5.6010,\n",
       "          -9.0464, -14.5598,  -3.3248]])"
      ]
     },
     "execution_count": 5,
     "metadata": {},
     "output_type": "execute_result"
    }
   ],
   "source": [
    "## Your solution\n",
    "def activation(x):\n",
    "    return 1/(1+torch.exp(-x))\n",
    "# flatten the input images\n",
    "input = images.view(images.shape[0], -1)\n",
    "\n",
    "# Create parameters\n",
    "w1 = torch.randn(784,256)\n",
    "b1 = torch.randn(256)\n",
    "\n",
    "w2 = torch.randn(256,10)\n",
    "b2 = torch.randn(10)\n",
    "\n",
    "h = activation(torch.mm(input,w1)+ b1)\n",
    "out = torch.mm(h,w2) + b2\n",
    "\n",
    "out # output of your network, should have shape (64,10)"
   ]
  },
  {
   "cell_type": "markdown",
   "metadata": {},
   "source": [
    "Now we have 10 outputs for our network. We want to pass in an image to our network and get out a probability distribution over the classes that tells us the likely class(es) the image belongs to. Something that looks like this:\n",
    "<img src='assets/image_distribution.png' width=500px>\n",
    "\n",
    "Here we see that the probability for each class is roughly the same. This is representing an untrained network, it hasn't seen any data yet so it just returns a uniform distribution with equal probabilities for each class.\n",
    "\n",
    "To calculate this probability distribution, we often use the [**softmax** function](https://en.wikipedia.org/wiki/Softmax_function). Mathematically this looks like\n",
    "\n",
    "$$\n",
    "\\Large \\sigma(x_i) = \\cfrac{e^{x_i}}{\\sum_k^K{e^{x_k}}}\n",
    "$$\n",
    "\n",
    "What this does is squish each input $x_i$ between 0 and 1 and normalizes the values to give you a proper probability distribution where the probabilites sum up to one.\n",
    "\n",
    "> **Exercise:** Implement a function `softmax` that performs the softmax calculation and returns probability distributions for each example in the batch. Note that you'll need to pay attention to the shapes when doing this. If you have a tensor `a` with shape `(64, 10)` and a tensor `b` with shape `(64,)`, doing `a/b` will give you an error because PyTorch will try to do the division across the columns (called broadcasting) but you'll get a size mismatch. The way to think about this is for each of the 64 examples, you only want to divide by one value, the sum in the denominator. So you need `b` to have a shape of `(64, 1)`. This way PyTorch will divide the 10 values in each row of `a` by the one value in each row of `b`. Pay attention to how you take the sum as well. You'll need to define the `dim` keyword in `torch.sum`. Setting `dim=0` takes the sum across the rows while `dim=1` takes the sum across the columns."
   ]
  },
  {
   "cell_type": "code",
   "execution_count": 6,
   "metadata": {},
   "outputs": [
    {
     "name": "stdout",
     "output_type": "stream",
     "text": [
      "torch.Size([64, 10])\n",
      "tensor([1.0000, 1.0000, 1.0000, 1.0000, 1.0000, 1.0000, 1.0000, 1.0000, 1.0000,\n",
      "        1.0000, 1.0000, 1.0000, 1.0000, 1.0000, 1.0000, 1.0000, 1.0000, 1.0000,\n",
      "        1.0000, 1.0000, 1.0000, 1.0000, 1.0000, 1.0000, 1.0000, 1.0000, 1.0000,\n",
      "        1.0000, 1.0000, 1.0000, 1.0000, 1.0000, 1.0000, 1.0000, 1.0000, 1.0000,\n",
      "        1.0000, 1.0000, 1.0000, 1.0000, 1.0000, 1.0000, 1.0000, 1.0000, 1.0000,\n",
      "        1.0000, 1.0000, 1.0000, 1.0000, 1.0000, 1.0000, 1.0000, 1.0000, 1.0000,\n",
      "        1.0000, 1.0000, 1.0000, 1.0000, 1.0000, 1.0000, 1.0000, 1.0000, 1.0000,\n",
      "        1.0000])\n"
     ]
    }
   ],
   "source": [
    "def softmax(x):\n",
    "    ## TODO: Implement the softmax function here\n",
    "    return torch.exp(x)/torch.sum(torch.exp(x), dim = 1).view(-1,1)\n",
    "\n",
    "# Here, out should be the output of the network in the previous excercise with shape (64,10)\n",
    "probabilities = softmax(out)\n",
    "\n",
    "# Does it have the right shape? Should be (64, 10)\n",
    "print(probabilities.shape)\n",
    "# Does it sum to 1?\n",
    "print(probabilities.sum(dim=1))"
   ]
  },
  {
   "cell_type": "markdown",
   "metadata": {},
   "source": [
    "## Building networks with PyTorch\n",
    "\n",
    "PyTorch provides a module `nn` that makes building networks much simpler. Here I'll show you how to build the same one as above with 784 inputs, 256 hidden units, 10 output units and a softmax output."
   ]
  },
  {
   "cell_type": "code",
   "execution_count": 7,
   "metadata": {},
   "outputs": [],
   "source": [
    "from torch import nn"
   ]
  },
  {
   "cell_type": "code",
   "execution_count": 8,
   "metadata": {},
   "outputs": [],
   "source": [
    "class Network(nn.Module):\n",
    "    def __init__(self):\n",
    "        super().__init__()\n",
    "        \n",
    "        # Inputs to hidden layer linear transformation\n",
    "        self.hidden = nn.Linear(784, 256)\n",
    "        # Output layer, 10 units - one for each digit\n",
    "        self.output = nn.Linear(256, 10)\n",
    "        \n",
    "        # Define sigmoid activation and softmax output \n",
    "        self.sigmoid = nn.Sigmoid()\n",
    "        self.softmax = nn.Softmax(dim=1)\n",
    "        \n",
    "    def forward(self, x):\n",
    "        # Pass the input tensor through each of our operations\n",
    "        x = self.hidden(x)\n",
    "        x = self.sigmoid(x)\n",
    "        x = self.output(x)\n",
    "        x = self.softmax(x)\n",
    "        \n",
    "        return x"
   ]
  },
  {
   "cell_type": "markdown",
   "metadata": {},
   "source": [
    "Let's go through this bit by bit.\n",
    "\n",
    "```python\n",
    "class Network(nn.Module):\n",
    "```\n",
    "\n",
    "Here we're inheriting from `nn.Module`. Combined with `super().__init__()` this creates a class that tracks the architecture and provides a lot of useful methods and attributes. It is mandatory to inherit from `nn.Module` when you're creating a class for your network. The name of the class itself can be anything.\n",
    "\n",
    "```python\n",
    "self.hidden = nn.Linear(784, 256)\n",
    "```\n",
    "\n",
    "This line creates a module for a linear transformation, $x\\mathbf{W} + b$, with 784 inputs and 256 outputs and assigns it to `self.hidden`. The module automatically creates the weight and bias tensors which we'll use in the `forward` method. You can access the weight and bias tensors once the network (`net`) is created with `net.hidden.weight` and `net.hidden.bias`.\n",
    "\n",
    "```python\n",
    "self.output = nn.Linear(256, 10)\n",
    "```\n",
    "\n",
    "Similarly, this creates another linear transformation with 256 inputs and 10 outputs.\n",
    "\n",
    "```python\n",
    "self.sigmoid = nn.Sigmoid()\n",
    "self.softmax = nn.Softmax(dim=1)\n",
    "```\n",
    "\n",
    "Here I defined operations for the sigmoid activation and softmax output. Setting `dim=1` in `nn.Softmax(dim=1)` calculates softmax across the columns.\n",
    "\n",
    "```python\n",
    "def forward(self, x):\n",
    "```\n",
    "\n",
    "PyTorch networks created with `nn.Module` must have a `forward` method defined. It takes in a tensor `x` and passes it through the operations you defined in the `__init__` method.\n",
    "\n",
    "```python\n",
    "x = self.hidden(x)\n",
    "x = self.sigmoid(x)\n",
    "x = self.output(x)\n",
    "x = self.softmax(x)\n",
    "```\n",
    "\n",
    "Here the input tensor `x` is passed through each operation and reassigned to `x`. We can see that the input tensor goes through the hidden layer, then a sigmoid function, then the output layer, and finally the softmax function. It doesn't matter what you name the variables here, as long as the inputs and outputs of the operations match the network architecture you want to build. The order in which you define things in the `__init__` method doesn't matter, but you'll need to sequence the operations correctly in the `forward` method.\n",
    "\n",
    "Now we can create a `Network` object."
   ]
  },
  {
   "cell_type": "code",
   "execution_count": 9,
   "metadata": {},
   "outputs": [
    {
     "data": {
      "text/plain": [
       "Network(\n",
       "  (hidden): Linear(in_features=784, out_features=256, bias=True)\n",
       "  (output): Linear(in_features=256, out_features=10, bias=True)\n",
       "  (sigmoid): Sigmoid()\n",
       "  (softmax): Softmax(dim=1)\n",
       ")"
      ]
     },
     "execution_count": 9,
     "metadata": {},
     "output_type": "execute_result"
    }
   ],
   "source": [
    "# Create the network and look at it's text representation\n",
    "model = Network()\n",
    "model"
   ]
  },
  {
   "cell_type": "markdown",
   "metadata": {},
   "source": [
    "You can define the network somewhat more concisely and clearly using the `torch.nn.functional` module. This is the most common way you'll see networks defined as many operations are simple element-wise functions. We normally import this module as `F`, `import torch.nn.functional as F`."
   ]
  },
  {
   "cell_type": "code",
   "execution_count": 10,
   "metadata": {},
   "outputs": [],
   "source": [
    "import torch.nn.functional as F\n",
    "\n",
    "class Network(nn.Module):\n",
    "    def __init__(self):\n",
    "        super().__init__()\n",
    "        # Inputs to hidden layer linear transformation\n",
    "        self.hidden = nn.Linear(784, 256)\n",
    "        # Output layer, 10 units - one for each digit\n",
    "        self.output = nn.Linear(256, 10)\n",
    "        \n",
    "    def forward(self, x):\n",
    "        # Hidden layer with sigmoid activation\n",
    "        x = F.sigmoid(self.hidden(x))\n",
    "        # Output layer with softmax activation\n",
    "        x = F.softmax(self.output(x), dim=1)\n",
    "        \n",
    "        return x"
   ]
  },
  {
   "cell_type": "markdown",
   "metadata": {},
   "source": [
    "### Activation functions\n",
    "\n",
    "So far we've only been looking at the sigmoid activation function, but in general any function can be used as an activation function. The only requirement is that for a network to approximate a non-linear function, the activation functions must be non-linear. Here are a few more examples of common activation functions: Tanh (hyperbolic tangent), and ReLU (rectified linear unit).\n",
    "\n",
    "<img src=\"assets/activation.png\" width=700px>\n",
    "\n",
    "In practice, the ReLU function is used almost exclusively as the activation function for hidden layers."
   ]
  },
  {
   "cell_type": "markdown",
   "metadata": {},
   "source": [
    "### Your Turn to Build a Network\n",
    "\n",
    "<img src=\"assets/mlp_mnist.png\" width=600px>\n",
    "\n",
    "> **Exercise:** Create a network with 784 input units, a hidden layer with 128 units and a ReLU activation, then a hidden layer with 64 units and a ReLU activation, and finally an output layer with a softmax activation as shown above. You can use a ReLU activation with the `nn.ReLU` module or `F.relu` function.\n",
    "\n",
    "It's good practice to name your layers by their type of network, for instance 'fc' to represent a fully-connected layer. As you code your solution, use `fc1`, `fc2`, and `fc3` as your layer names."
   ]
  },
  {
   "cell_type": "code",
   "execution_count": 11,
   "metadata": {
    "scrolled": true
   },
   "outputs": [
    {
     "data": {
      "text/plain": [
       "Network(\n",
       "  (fc1): Linear(in_features=784, out_features=128, bias=True)\n",
       "  (fc2): Linear(in_features=128, out_features=64, bias=True)\n",
       "  (fc3): Linear(in_features=64, out_features=10, bias=True)\n",
       ")"
      ]
     },
     "execution_count": 11,
     "metadata": {},
     "output_type": "execute_result"
    }
   ],
   "source": [
    "class Network(nn.Module):\n",
    "    def __init__(self):\n",
    "        super().__init__()\n",
    "        # Defining the Layers, 128, 64, 10 units each\n",
    "        self.fc1 = nn.Linear(784, 128)\n",
    "        self.fc2 = nn.Linear(128,64)\n",
    "        # Output Layer, 10 units - one for each digit\n",
    "        self.fc3 = nn.Linear(64,10)\n",
    "    def forward(self, x):\n",
    "        x = self.fc1(x)\n",
    "        x = F.relu(x)\n",
    "        x = self.fc2(x)\n",
    "        x = F.relu(x)\n",
    "        x = self.fc3(x)\n",
    "        x = F.softmax(x, dim=1)\n",
    "        \n",
    "        return x\n",
    "model = Network()\n",
    "model"
   ]
  },
  {
   "cell_type": "markdown",
   "metadata": {},
   "source": [
    "### Initializing weights and biases\n",
    "\n",
    "The weights and such are automatically initialized for you, but it's possible to customize how they are initialized. The weights and biases are tensors attached to the layer you defined, you can get them with `model.fc1.weight` for instance."
   ]
  },
  {
   "cell_type": "code",
   "execution_count": 12,
   "metadata": {},
   "outputs": [
    {
     "name": "stdout",
     "output_type": "stream",
     "text": [
      "Parameter containing:\n",
      "tensor([[ 0.0122,  0.0251,  0.0299,  ..., -0.0288,  0.0097,  0.0331],\n",
      "        [-0.0138, -0.0094, -0.0093,  ...,  0.0101, -0.0047,  0.0324],\n",
      "        [ 0.0191, -0.0146,  0.0341,  ..., -0.0331,  0.0066, -0.0219],\n",
      "        ...,\n",
      "        [ 0.0100, -0.0216, -0.0234,  ...,  0.0150,  0.0114,  0.0105],\n",
      "        [-0.0086, -0.0163,  0.0292,  ..., -0.0274, -0.0356, -0.0119],\n",
      "        [-0.0021, -0.0217,  0.0002,  ...,  0.0347, -0.0250, -0.0160]],\n",
      "       requires_grad=True)\n",
      "Parameter containing:\n",
      "tensor([-0.0351, -0.0118,  0.0034, -0.0265, -0.0221, -0.0199,  0.0023,  0.0049,\n",
      "         0.0336,  0.0281,  0.0072, -0.0162, -0.0273,  0.0084, -0.0308, -0.0052,\n",
      "         0.0291, -0.0175, -0.0289, -0.0107,  0.0073, -0.0337, -0.0304,  0.0140,\n",
      "        -0.0303, -0.0029,  0.0250,  0.0179, -0.0128,  0.0141,  0.0280,  0.0277,\n",
      "         0.0029, -0.0045,  0.0246, -0.0076,  0.0295,  0.0031, -0.0187,  0.0127,\n",
      "         0.0011, -0.0326,  0.0218,  0.0297,  0.0231,  0.0242,  0.0004,  0.0052,\n",
      "         0.0097, -0.0069,  0.0273,  0.0273,  0.0212, -0.0235,  0.0014, -0.0111,\n",
      "        -0.0279, -0.0055, -0.0146,  0.0143,  0.0150,  0.0010,  0.0076,  0.0068,\n",
      "         0.0167,  0.0304,  0.0272,  0.0109,  0.0129, -0.0115,  0.0298, -0.0172,\n",
      "         0.0103, -0.0253,  0.0044,  0.0317,  0.0052,  0.0190, -0.0189,  0.0002,\n",
      "        -0.0006, -0.0309,  0.0208,  0.0295,  0.0125, -0.0250, -0.0275,  0.0253,\n",
      "         0.0333, -0.0233, -0.0316, -0.0035,  0.0051,  0.0292,  0.0122,  0.0235,\n",
      "        -0.0186, -0.0147,  0.0269, -0.0179, -0.0324, -0.0035,  0.0336,  0.0169,\n",
      "        -0.0336,  0.0259,  0.0136,  0.0005,  0.0300, -0.0332, -0.0272,  0.0124,\n",
      "        -0.0073,  0.0242, -0.0178, -0.0184, -0.0240,  0.0076, -0.0291, -0.0151,\n",
      "         0.0202, -0.0174, -0.0274,  0.0170, -0.0193, -0.0273,  0.0346,  0.0033],\n",
      "       requires_grad=True)\n"
     ]
    }
   ],
   "source": [
    "print(model.fc1.weight)\n",
    "print(model.fc1.bias)"
   ]
  },
  {
   "cell_type": "markdown",
   "metadata": {},
   "source": [
    "For custom initialization, we want to modify these tensors in place. These are actually autograd *Variables*, so we need to get back the actual tensors with `model.fc1.weight.data`. Once we have the tensors, we can fill them with zeros (for biases) or random normal values."
   ]
  },
  {
   "cell_type": "code",
   "execution_count": 13,
   "metadata": {},
   "outputs": [
    {
     "data": {
      "text/plain": [
       "tensor([0., 0., 0., 0., 0., 0., 0., 0., 0., 0., 0., 0., 0., 0., 0., 0., 0., 0., 0., 0., 0., 0., 0., 0.,\n",
       "        0., 0., 0., 0., 0., 0., 0., 0., 0., 0., 0., 0., 0., 0., 0., 0., 0., 0., 0., 0., 0., 0., 0., 0.,\n",
       "        0., 0., 0., 0., 0., 0., 0., 0., 0., 0., 0., 0., 0., 0., 0., 0., 0., 0., 0., 0., 0., 0., 0., 0.,\n",
       "        0., 0., 0., 0., 0., 0., 0., 0., 0., 0., 0., 0., 0., 0., 0., 0., 0., 0., 0., 0., 0., 0., 0., 0.,\n",
       "        0., 0., 0., 0., 0., 0., 0., 0., 0., 0., 0., 0., 0., 0., 0., 0., 0., 0., 0., 0., 0., 0., 0., 0.,\n",
       "        0., 0., 0., 0., 0., 0., 0., 0.])"
      ]
     },
     "execution_count": 13,
     "metadata": {},
     "output_type": "execute_result"
    }
   ],
   "source": [
    "# Set biases to all zeros\n",
    "model.fc1.bias.data.fill_(0)"
   ]
  },
  {
   "cell_type": "code",
   "execution_count": 14,
   "metadata": {},
   "outputs": [
    {
     "data": {
      "text/plain": [
       "tensor([[ 0.0041,  0.0090,  0.0007,  ..., -0.0056,  0.0021, -0.0046],\n",
       "        [ 0.0003, -0.0177, -0.0033,  ..., -0.0083, -0.0088,  0.0168],\n",
       "        [-0.0113, -0.0037, -0.0288,  ...,  0.0172,  0.0028,  0.0113],\n",
       "        ...,\n",
       "        [-0.0053, -0.0007,  0.0144,  ..., -0.0039, -0.0068, -0.0077],\n",
       "        [-0.0053,  0.0115, -0.0038,  ..., -0.0028, -0.0064, -0.0158],\n",
       "        [-0.0065, -0.0150,  0.0186,  ..., -0.0137, -0.0018,  0.0017]])"
      ]
     },
     "execution_count": 14,
     "metadata": {},
     "output_type": "execute_result"
    }
   ],
   "source": [
    "# sample from random normal with standard dev = 0.01\n",
    "model.fc1.weight.data.normal_(std=0.01)"
   ]
  },
  {
   "cell_type": "markdown",
   "metadata": {},
   "source": [
    "### Forward pass\n",
    "\n",
    "Now that we have a network, let's see what happens when we pass in an image."
   ]
  },
  {
   "cell_type": "code",
   "execution_count": 15,
   "metadata": {},
   "outputs": [
    {
     "data": {
      "image/png": "[encoded data removed]",
      "text/plain": [
       "<Figure size 432x648 with 2 Axes>"
      ]
     },
     "metadata": {
      "image/png": {
       "height": 235,
       "width": 424
      },
      "needs_background": "light"
     },
     "output_type": "display_data"
    }
   ],
   "source": [
    "# Grab some data \n",
    "dataiter = iter(trainloader)\n",
    "images, labels = dataiter.next()\n",
    "\n",
    "# Resize images into a 1D vector, new shape is (batch size, color channels, image pixels) \n",
    "images.resize_(64, 1, 784)\n",
    "# or images.resize_(images.shape[0], 1, 784) to automatically get batch size\n",
    "\n",
    "# Forward pass through the network\n",
    "img_idx = 0\n",
    "ps = model.forward(images[img_idx,:])\n",
    "\n",
    "img = images[img_idx]\n",
    "helper.view_classify(img.view(1, 28, 28), ps)"
   ]
  },
  {
   "cell_type": "markdown",
   "metadata": {},
   "source": [
    "As you can see above, our network has basically no idea what this digit is. It's because we haven't trained it yet, all the weights are random!\n",
    "\n",
    "### Using `nn.Sequential`\n",
    "\n",
    "PyTorch provides a convenient way to build networks like this where a tensor is passed sequentially through operations, `nn.Sequential` ([documentation](https://pytorch.org/docs/master/nn.html#torch.nn.Sequential)). Using this to build the equivalent network:"
   ]
  },
  {
   "cell_type": "code",
   "execution_count": 16,
   "metadata": {},
   "outputs": [
    {
     "name": "stdout",
     "output_type": "stream",
     "text": [
      "Sequential(\n",
      "  (0): Linear(in_features=784, out_features=128, bias=True)\n",
      "  (1): ReLU()\n",
      "  (2): Linear(in_features=128, out_features=64, bias=True)\n",
      "  (3): ReLU()\n",
      "  (4): Linear(in_features=64, out_features=10, bias=True)\n",
      "  (5): Softmax(dim=1)\n",
      ")\n"
     ]
    },
    {
     "data": {
      "image/png": "[encoded data removed]",
      "text/plain": [
       "<Figure size 432x648 with 2 Axes>"
      ]
     },
     "metadata": {
      "image/png": {
       "height": 235,
       "width": 424
      },
      "needs_background": "light"
     },
     "output_type": "display_data"
    }
   ],
   "source": [
    "# Hyperparameters for our network\n",
    "input_size = 784\n",
    "hidden_sizes = [128, 64]\n",
    "output_size = 10\n",
    "\n",
    "# Build a feed-forward network\n",
    "model = nn.Sequential(nn.Linear(input_size, hidden_sizes[0]),\n",
    "                      nn.ReLU(),\n",
    "                      nn.Linear(hidden_sizes[0], hidden_sizes[1]),\n",
    "                      nn.ReLU(),\n",
    "                      nn.Linear(hidden_sizes[1], output_size),\n",
    "                      nn.Softmax(dim=1))\n",
    "print(model)\n",
    "\n",
    "# Forward pass through the network and display output\n",
    "images, labels = next(iter(trainloader))\n",
    "images.resize_(images.shape[0], 1, 784)\n",
    "ps = model.forward(images[0,:])\n",
    "helper.view_classify(images[0].view(1, 28, 28), ps)"
   ]
  },
  {
   "cell_type": "markdown",
   "metadata": {},
   "source": [
    "Here our model is the same as before: 784 input units, a hidden layer with 128 units, ReLU activation, 64 unit hidden layer, another ReLU, then the output layer with 10 units, and the softmax output.\n",
    "\n",
    "The operations are available by passing in the appropriate index. For example, if you want to get first Linear operation and look at the weights, you'd use `model[0]`."
   ]
  },
  {
   "cell_type": "code",
   "execution_count": 17,
   "metadata": {},
   "outputs": [
    {
     "name": "stdout",
     "output_type": "stream",
     "text": [
      "Linear(in_features=784, out_features=128, bias=True)\n"
     ]
    },
    {
     "data": {
      "text/plain": [
       "Parameter containing:\n",
       "tensor([[-0.0280, -0.0262,  0.0159,  ...,  0.0267, -0.0273, -0.0190],\n",
       "        [-0.0357,  0.0249,  0.0326,  ...,  0.0318, -0.0104,  0.0179],\n",
       "        [-0.0314, -0.0195,  0.0019,  ..., -0.0065, -0.0355,  0.0054],\n",
       "        ...,\n",
       "        [-0.0005, -0.0335, -0.0017,  ...,  0.0270, -0.0087,  0.0312],\n",
       "        [-0.0054,  0.0029, -0.0335,  ..., -0.0131, -0.0159,  0.0078],\n",
       "        [ 0.0180, -0.0305, -0.0081,  ...,  0.0328, -0.0045,  0.0143]],\n",
       "       requires_grad=True)"
      ]
     },
     "execution_count": 17,
     "metadata": {},
     "output_type": "execute_result"
    }
   ],
   "source": [
    "print(model[0])\n",
    "model[0].weight"
   ]
  },
  {
   "cell_type": "markdown",
   "metadata": {},
   "source": [
    "You can also pass in an `OrderedDict` to name the individual layers and operations, instead of using incremental integers. Note that dictionary keys must be unique, so _each operation must have a different name_."
   ]
  },
  {
   "cell_type": "code",
   "execution_count": 19,
   "metadata": {},
   "outputs": [
    {
     "data": {
      "text/plain": [
       "Sequential(\n",
       "  (fc1): Linear(in_features=784, out_features=128, bias=True)\n",
       "  (relu1): ReLU()\n",
       "  (fc2): Linear(in_features=128, out_features=64, bias=True)\n",
       "  (relu2): ReLU()\n",
       "  (output): Linear(in_features=64, out_features=10, bias=True)\n",
       "  (softmax): Softmax(dim=1)\n",
       ")"
      ]
     },
     "execution_count": 19,
     "metadata": {},
     "output_type": "execute_result"
    }
   ],
   "source": [
    "from collections import OrderedDict\n",
    "model = nn.Sequential(OrderedDict([\n",
    "                      ('fc1', nn.Linear(input_size, hidden_sizes[0])),\n",
    "                      ('relu1', nn.ReLU()),\n",
    "                      ('fc2', nn.Linear(hidden_sizes[0], hidden_sizes[1])),\n",
    "                      ('relu2', nn.ReLU()),\n",
    "                      ('output', nn.Linear(hidden_sizes[1], output_size)),\n",
    "                      ('softmax', nn.Softmax(dim=1))]))\n",
    "model"
   ]
  },
  {
   "cell_type": "markdown",
   "metadata": {},
   "source": [
    "Now you can access layers either by integer or the name"
   ]
  },
  {
   "cell_type": "code",
   "execution_count": 20,
   "metadata": {},
   "outputs": [
    {
     "name": "stdout",
     "output_type": "stream",
     "text": [
      "Linear(in_features=784, out_features=128, bias=True)\n",
      "Linear(in_features=784, out_features=128, bias=True)\n"
     ]
    }
   ],
   "source": [
    "print(model[0])\n",
    "print(model.fc1)"
   ]
  },
  {
   "cell_type": "markdown",
   "metadata": {},
   "source": [
    "In the next notebook, we'll see how we can train a neural network to accuractly predict the numbers appearing in the MNIST images."
   ]
  }
 ],
 "metadata": {
  "kernelspec": {
   "display_name": "Python 3",
   "language": "python",
   "name": "python3"
  },
  "language_info": {
   "codemirror_mode": {
    "name": "ipython",
    "version": 3
   },
   "file_extension": ".py",
   "mimetype": "text/x-python",
   "name": "python",
   "nbconvert_exporter": "python",
   "pygments_lexer": "ipython3",
   "version": "3.7.4"
  }
 },
 "nbformat": 4,
 "nbformat_minor": 2
}
